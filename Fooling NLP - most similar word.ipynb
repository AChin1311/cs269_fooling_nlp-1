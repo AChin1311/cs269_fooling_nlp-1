{
 "cells": [
  {
   "cell_type": "code",
   "execution_count": 1,
   "metadata": {},
   "outputs": [],
   "source": [
    "%run glove_word2vec.py first to get glove.6B.300d.txt.word2vec\n",
    "%load_ext autoreload\n",
    "%autoreload 2\n",
    "\n",
    "import matplotlib.pyplot as plt\n",
    "%matplotlib inline"
   ]
  },
  {
   "cell_type": "code",
   "execution_count": 2,
   "metadata": {},
   "outputs": [
    {
     "name": "stderr",
     "output_type": "stream",
     "text": [
      "Using TensorFlow backend.\n"
     ]
    }
   ],
   "source": [
    "\n",
    "import numpy as np\n",
    "import os\n",
    "import data_utils\n",
    "from keras.models import load_model"
   ]
  },
  {
   "cell_type": "code",
   "execution_count": 3,
   "metadata": {},
   "outputs": [],
   "source": [
    "TOKENIZER_PATH = 'tokenizer.pickle'\n",
    "TEXT_DATA_DIR = '20_newsgroup/'\n",
    "MODEL_PATH = '20news_model.h5'"
   ]
  },
  {
   "cell_type": "code",
   "execution_count": 4,
   "metadata": {},
   "outputs": [],
   "source": [
    "tokenizer = data_utils.load_tokenizer(TOKENIZER_PATH)\n",
    "model = load_model(MODEL_PATH)\n",
    "labels =  list(sorted(os.listdir(TEXT_DATA_DIR)))"
   ]
  },
  {
   "cell_type": "code",
   "execution_count": 5,
   "metadata": {},
   "outputs": [],
   "source": [
    "sample_file = '20_newsgroup/alt.atheism/51060'\n",
    "file_text = data_utils.load_textfile(sample_file)\n",
    "file_features = data_utils.process_text(tokenizer, file_text)"
   ]
  },
  {
   "cell_type": "code",
   "execution_count": 6,
   "metadata": {},
   "outputs": [
    {
     "name": "stdout",
     "output_type": "stream",
     "text": [
      "Predicted \"alt.atheism\" with 0.186283 .\n"
     ]
    }
   ],
   "source": [
    "pred_scores = model.predict(file_features)\n",
    "orig_prediction = np.argmax(pred_scores[0])\n",
    "print('Predicted \"%s\" with %f .' %(labels[orig_prediction], pred_scores[0][orig_prediction]))"
   ]
  },
  {
   "cell_type": "markdown",
   "metadata": {},
   "source": [
    "## Randomly replace a word with its most similar word"
   ]
  },
  {
   "cell_type": "code",
   "execution_count": 7,
   "metadata": {},
   "outputs": [],
   "source": [
    "import find_most_similar_word\n",
    "import string\n",
    "delset = string.punctuation\n",
    "remove_punc_text = file_text.translate(None,delset)\n",
    "words = remove_punc_text.split();\n",
    "words = file_text.split();"
   ]
  },
  {
   "cell_type": "code",
   "execution_count": 8,
   "metadata": {},
   "outputs": [
    {
     "name": "stdout",
     "output_type": "stream",
     "text": [
      "Fail attacking after : 2001 iterations\n"
     ]
    }
   ],
   "source": [
    "y_orig = []\n",
    "orig_pred = orig_prediction\n",
    "iter_idx = 0\n",
    "Attacked = False\n",
    "changed = [False]*len(words)\n",
    "    \n",
    "while Attacked == False:\n",
    "    word_idx = np.random.choice(len(words))\n",
    "    word = find_most_similar_word.most_similar(words[word_idx])\n",
    "    if type(word) == unicode:\n",
    "#     if type(word) == unicode and changed[word_idx] == False:\n",
    "        iter_idx += 1\n",
    "        words[word_idx] = word.encode('UTF8')\n",
    "        changed[word_idx] = True\n",
    "\n",
    "    modified_text = ' '.join(words)\n",
    "    file_features = data_utils.process_text(tokenizer, modified_text)\n",
    "    pred_scores = model.predict(file_features)\n",
    "    new_pred = np.argmax(pred_scores)\n",
    "    y_orig.append(pred_scores[0][orig_pred])\n",
    "    if new_pred != orig_pred:\n",
    "        Attacked = True\n",
    "        break \n",
    "    elif iter_idx > 2000:\n",
    "        break\n",
    "    words = modified_text.split();\n",
    "        \n",
    "if Attacked:\n",
    "    print(\"Attack successful after : %d iterations\" %(iter_idx))\n",
    "    print(\"Original class \\\"%s\\\" - New class: \\\"%s\\\"\" %(labels[orig_pred], labels[new_pred]))\n",
    "else:\n",
    "    print(\"Fail attacking after : %d iterations\" %(iter_idx))\n"
   ]
  },
  {
   "cell_type": "code",
   "execution_count": 9,
   "metadata": {},
   "outputs": [
    {
     "data": {
      "text/plain": [
       "[<matplotlib.lines.Line2D at 0x143957210>]"
      ]
     },
     "execution_count": 9,
     "metadata": {},
     "output_type": "execute_result"
    },
    {
     "data": {
      "image/png": "[encoded data removed]",
      "text/plain": [
       "<matplotlib.figure.Figure at 0x142bc5610>"
      ]
     },
     "metadata": {},
     "output_type": "display_data"
    }
   ],
   "source": [
    "plt.plot(range(len(y_orig)), y_orig)"
   ]
  }
 ],
 "metadata": {
  "kernelspec": {
   "display_name": "Python 2",
   "language": "python",
   "name": "python2"
  },
  "language_info": {
   "codemirror_mode": {
    "name": "ipython",
    "version": 2
   },
   "file_extension": ".py",
   "mimetype": "text/x-python",
   "name": "python",
   "nbconvert_exporter": "python",
   "pygments_lexer": "ipython2",
   "version": "2.7.10"
  }
 },
 "nbformat": 4,
 "nbformat_minor": 2
}
