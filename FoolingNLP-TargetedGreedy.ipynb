{
 "cells": [
  {
   "cell_type": "code",
   "execution_count": 1,
   "metadata": {
    "collapsed": true
   },
   "outputs": [],
   "source": [
    "%load_ext autoreload\n",
    "%autoreload 2\n",
    "\n",
    "import matplotlib.pyplot as plt\n",
    "%matplotlib inline\n",
    "\n",
    "from IPython.core.display import HTML"
   ]
  },
  {
   "cell_type": "code",
   "execution_count": 2,
   "metadata": {},
   "outputs": [
    {
     "name": "stderr",
     "output_type": "stream",
     "text": [
      "Using TensorFlow backend.\n"
     ]
    }
   ],
   "source": [
    "\n",
    "import numpy as np\n",
    "import os\n",
    "import data_utils\n",
    "import pickle\n",
    "import attacks\n",
    "import random\n",
    "from keras.models import load_model\n",
    "\n",
    "import greedy_utils"
   ]
  },
  {
   "cell_type": "code",
   "execution_count": 3,
   "metadata": {
    "collapsed": true
   },
   "outputs": [],
   "source": [
    "TOKENIZER_PATH = 'tokenizer.pickle'\n",
    "TEXT_DATA_DIR = '20_newsgroup/'\n",
    "MODEL_PATH = '20news_model.h5'"
   ]
  },
  {
   "cell_type": "code",
   "execution_count": 4,
   "metadata": {
    "collapsed": true
   },
   "outputs": [],
   "source": [
    "tokenizer, inverse_tokenizer = data_utils.load_tokenizer(TOKENIZER_PATH)\n",
    "model = load_model(MODEL_PATH)\n",
    "labels =  list(sorted(os.listdir(TEXT_DATA_DIR)))"
   ]
  },
  {
   "cell_type": "code",
   "execution_count": 5,
   "metadata": {
    "collapsed": true
   },
   "outputs": [],
   "source": [
    "sample_file, true_label = data_utils.pick_random_file(TEXT_DATA_DIR)\n",
    "file_text = data_utils.load_textfile(sample_file)\n",
    "file_features = data_utils.process_text(tokenizer, file_text)"
   ]
  },
  {
   "cell_type": "code",
   "execution_count": 6,
   "metadata": {},
   "outputs": [
    {
     "name": "stdout",
     "output_type": "stream",
     "text": [
      "TrueLabel = talk.politics.mideast\n",
      "Predicted \"talk.politics.mideast\" with 0.283052 .\n"
     ]
    }
   ],
   "source": [
    "pred_scores = model.predict(file_features)\n",
    "orig_prediction = np.argmax(pred_scores[0])\n",
    "print('TrueLabel = %s' %true_label)\n",
    "print('Predicted \"%s\" with %f .' %(labels[orig_prediction], pred_scores[0][orig_prediction]))"
   ]
  },
  {
   "cell_type": "markdown",
   "metadata": {},
   "source": [
    "## Randomised Attack (Non-targeted)"
   ]
  },
  {
   "cell_type": "markdown",
   "metadata": {},
   "source": [
    " Random attack will pick and replace words randomly."
   ]
  },
  {
   "cell_type": "code",
   "execution_count": 9,
   "metadata": {
    "collapsed": true
   },
   "outputs": [],
   "source": [
    "COMPUTE_PROBS = False\n",
    "if COMPUTE_PROBS:\n",
    "    num_words = len(inverse_tokenizer)\n",
    "    topics_words, topics_words_probs = greedy_utils.compute_topic_words(TEXT_DATA_DIR, tokenizer, \n",
    "                                                                  labels, num_words)\n",
    "    with open('topic_words.pickle', 'wb') as handle:\n",
    "        pickle.dump(topics_words, handle, protocol=pickle.HIGHEST_PROTOCOL)\n",
    "    with open('topc_words_probs.pickle', 'wb') as handle:\n",
    "        pickle.dump(topics_words_probs, handle, protocol=pickle.HIGHEST_PROTOCOL)\n",
    "else:\n",
    "    with open('topic_words.pickle', 'rb') as handle:\n",
    "        topics_words = pickle.load(handle)\n",
    "    with open('topc_words_probs.pickle', 'rb') as handle:\n",
    "        topics_words_probs = pickle.load( handle)"
   ]
  },
  {
   "cell_type": "code",
   "execution_count": 68,
   "metadata": {
    "collapsed": true
   },
   "outputs": [],
   "source": [
    "greedy_attack = attacks.GreedyAttack(model, topics_words, topics_words_probs, temp=0.15)"
   ]
  },
  {
   "cell_type": "code",
   "execution_count": 69,
   "metadata": {},
   "outputs": [
    {
     "name": "stdout",
     "output_type": "stream",
     "text": [
      "Random target = rec.motorcycles\n"
     ]
    }
   ],
   "source": [
    "other_labels = [x for x in range(len(labels)) if x != orig_prediction]\n",
    "random_target = np.random.choice(other_labels)\n",
    "print('Random target = %s' %labels[random_target])\n",
    "x_orig = file_features.copy()\n",
    "x_adv, o_hist, t_hist = greedy_attack.attack(x_orig, random_target)"
   ]
  },
  {
   "cell_type": "code",
   "execution_count": 70,
   "metadata": {},
   "outputs": [
    {
     "name": "stdout",
     "output_type": "stream",
     "text": [
      "Attack succeeded after 108 iterations.\n",
      "Original class: talk.politics.mideast, Attack class: rec.motorcycles\n",
      "Number of changed words = 87 (28.16 %)\n"
     ]
    },
    {
     "data": {
      "image/png": "[encoded data removed]",
      "text/plain": [
       "<matplotlib.figure.Figure at 0x7fe9036dc9e8>"
      ]
     },
     "metadata": {},
     "output_type": "display_data"
    }
   ],
   "source": [
    "if x_adv is None:\n",
    "    print('Attack failed. !')\n",
    "else:\n",
    "    adv_prediction = np.argmax(model.predict(x_adv))\n",
    "    print('Attack succeeded after %d iterations.' %(len(t_hist)))\n",
    "    print('Original class: %s, Attack class: %s' %(labels[orig_prediction], labels[adv_prediction]))\n",
    "    print(\"Number of changed words = %d (%0.2f %%)\"\n",
    "          %(np.count_nonzero(x_adv != x_orig),\n",
    "            100*(np.count_nonzero(x_adv != x_orig))/np.count_nonzero(x_orig)))\n",
    "    plt.plot(o_hist, 'g', label=labels[orig_prediction])\n",
    "    plt.plot(t_hist, 'r', label=labels[adv_prediction])\n",
    "    plt.legend()"
   ]
  },
  {
   "cell_type": "markdown",
   "metadata": {},
   "source": [
    "## Reconstruct Text Document"
   ]
  },
  {
   "cell_type": "code",
   "execution_count": 71,
   "metadata": {
    "collapsed": true
   },
   "outputs": [],
   "source": [
    "orig_text = data_utils.reconstruct_text(inverse_tokenizer, file_features[0])\n",
    "adv_text = data_utils.reconstruct_text(inverse_tokenizer, x_adv[0])"
   ]
  },
  {
   "cell_type": "markdown",
   "metadata": {},
   "source": [
    "## Visualize Attack"
   ]
  },
  {
   "cell_type": "code",
   "execution_count": 72,
   "metadata": {
    "collapsed": true
   },
   "outputs": [],
   "source": [
    "orig_html, adv_html = data_utils.render_attack(orig_text, adv_text)"
   ]
  },
  {
   "cell_type": "code",
   "execution_count": 73,
   "metadata": {},
   "outputs": [
    {
     "data": {
      "text/html": [
       "from center for policy research cpr subject ten questions <b style='color:green'>about</b> israel ten questions to israelis <b style='color:green'>i</b> would be thankful <b style='color:green'>if</b> any of you <b style='color:green'>who</b> live in israel could <b style='color:green'>help</b> <b style='color:green'>to</b> provide accurate answers to the following specific <b style='color:green'>questions</b> <b style='color:green'>these</b> are indeed provocative <b style='color:green'>questions</b> <b style='color:green'>but</b> they are <b style='color:green'>asked</b> <b style='color:green'>time</b> and again by people around me <b style='color:green'>1</b> is <b style='color:green'>it</b> true that the <b style='color:green'>israeli</b> authorities don't <b style='color:green'>recognize</b> israeli <b style='color:green'>nationality</b> and <b style='color:green'>that</b> id cards which israeli <b style='color:green'>citizens</b> must <b style='color:green'>carry</b> <b style='color:green'>at</b> all <b style='color:green'>times</b> <b style='color:green'>identify</b> people as jews or arabs <b style='color:green'>not</b> <b style='color:green'>as</b> <b style='color:green'>israelis</b> <b style='color:green'>2</b> is it true that <b style='color:green'>the</b> state <b style='color:green'>of</b> <b style='color:green'>israel</b> <b style='color:green'>has</b> no <b style='color:green'>fixed</b> borders and that israeli governments from <b style='color:green'>1948</b> <b style='color:green'>until</b> <b style='color:green'>today</b> <b style='color:green'>have</b> refused to state <b style='color:green'>where</b> <b style='color:green'>the</b> ultimate borders of <b style='color:green'>the</b> state of israel should be <b style='color:green'>3</b> is it true that israeli stocks nuclear weapons if so <b style='color:green'>could</b> <b style='color:green'>you</b> <b style='color:green'>provide</b> any <b style='color:green'>evidence</b> 4 is it <b style='color:green'>true</b> that in israeli prisons <b style='color:green'>there</b> are a <b style='color:green'>number</b> <b style='color:green'>of</b> individuals which were tried in <b style='color:green'>secret</b> <b style='color:green'>and</b> for <b style='color:green'>which</b> their identities the date of their <b style='color:green'>trial</b> and their imprisonment <b style='color:green'>are</b> state secrets 5 is <b style='color:green'>it</b> true that jews who in the occupied territories are subject to different laws <b style='color:green'>than</b> non jews 6 is it <b style='color:green'>true</b> that <b style='color:green'>jews</b> <b style='color:green'>who</b> left palestine in the war 1947 48 to avoid the war were automatically allowed to return while their christian <b style='color:green'>neighbors</b> who did the same <b style='color:green'>were</b> not allowed <b style='color:green'>to</b> return 7 is it true that <b style='color:green'>israel's</b> prime minister y rabin signed <b style='color:green'>an</b> order for ethnical cleansing in 1948 as is done <b style='color:green'>today</b> in <b style='color:green'>bosnia</b> herzegovina 8 is it <b style='color:green'>true</b> that <b style='color:green'>israeli</b> arab citizens <b style='color:green'>are</b> not <b style='color:green'>admitted</b> <b style='color:green'>as</b> <b style='color:green'>members</b> <b style='color:green'>in</b> 9 <b style='color:green'>is</b> it true that <b style='color:green'>israeli</b> law attempts to discourage marriages <b style='color:green'>between</b> jews and non jews <b style='color:green'>10</b> <b style='color:green'>is</b> <b style='color:green'>it</b> <b style='color:green'>true</b> that hotel <b style='color:green'>in</b> tel <b style='color:green'>aviv</b> is built on the <b style='color:green'>site</b> of <b style='color:green'>a</b> <b style='color:green'>muslim</b> <b style='color:green'>cemetery</b> thanks <b style='color:green'>elias</b> davidsson iceland <b style='color:green'>email</b> elias is"
      ],
      "text/plain": [
       "<IPython.core.display.HTML object>"
      ]
     },
     "execution_count": 73,
     "metadata": {},
     "output_type": "execute_result"
    }
   ],
   "source": [
    "HTML(\"<b> Original Text </b>\")\n",
    "HTML(orig_html)"
   ]
  },
  {
   "cell_type": "code",
   "execution_count": 74,
   "metadata": {},
   "outputs": [
    {
     "data": {
      "text/html": [
       "from center for policy research cpr subject ten questions <b style='color:red'>presumption</b> israel ten questions to israelis <b style='color:red'>harleys</b> would be thankful <b style='color:red'>harleys</b> any of you <b style='color:red'>harleys</b> live in israel could <b style='color:red'>harleys</b> <b style='color:red'>rom</b> provide accurate answers to the following specific <b style='color:red'>kaldis</b> <b style='color:red'>bisexual</b> are indeed provocative <b style='color:red'>meddle</b> <b style='color:red'>police</b> they are <b style='color:red'>harleys</b> <b style='color:red'>harleys</b> and again by people around me <b style='color:red'>harleys</b> is <b style='color:red'>harleys</b> true that the <b style='color:red'>harleys</b> authorities don't <b style='color:red'>harleys</b> israeli <b style='color:red'>harleys</b> and <b style='color:red'>harleys</b> id cards which israeli <b style='color:red'>harleys</b> must <b style='color:red'>harleys</b> <b style='color:red'>refute</b> all <b style='color:red'>harleys</b> <b style='color:red'>harleys</b> people as jews or arabs <b style='color:red'>harleys</b> <b style='color:red'>harleys</b> <b style='color:red'>coolant</b> <b style='color:red'>harleys</b> is it true that <b style='color:red'>harleys</b> state <b style='color:red'>kelly</b> <b style='color:red'>wheels</b> <b style='color:red'>harleys</b> no <b style='color:red'>cultural</b> borders and that israeli governments from <b style='color:red'>advent</b> <b style='color:red'>harleys</b> <b style='color:red'>harleys</b> <b style='color:red'>harleys</b> refused to state <b style='color:red'>harleys</b> <b style='color:red'>coolant</b> ultimate borders of <b style='color:red'>harleys</b> state of israel should be <b style='color:red'>harleys</b> is it true that israeli stocks nuclear weapons if so <b style='color:red'>harleys</b> <b style='color:red'>zalapski</b> <b style='color:red'>harleys</b> any <b style='color:red'>harleys</b> 4 is it <b style='color:red'>harleys</b> that in israeli prisons <b style='color:red'>solved</b> are a <b style='color:red'>unisql</b> <b style='color:red'>meddle</b> individuals which were tried in <b style='color:red'>harleys</b> <b style='color:red'>harleys</b> for <b style='color:red'>1993apr23</b> their identities the date of their <b style='color:red'>singer</b> and their imprisonment <b style='color:red'>harleys</b> state secrets 5 is <b style='color:red'>hobbes</b> true that jews who in the occupied territories are subject to different laws <b style='color:red'>harleys</b> non jews 6 is it <b style='color:red'>harleys</b> that <b style='color:red'>harleys</b> <b style='color:red'>harleys</b> left palestine in the war 1947 48 to avoid the war were automatically allowed to return while their christian <b style='color:red'>harleys</b> who did the same <b style='color:red'>suit</b> not allowed <b style='color:red'>unisql</b> return 7 is it true that <b style='color:red'>meddle</b> prime minister y rabin signed <b style='color:red'>harleys</b> order for ethnical cleansing in 1948 as is done <b style='color:red'>expertise</b> in <b style='color:red'>harleys</b> herzegovina 8 is it <b style='color:red'>6f1</b> that <b style='color:red'>harleys</b> arab citizens <b style='color:red'>harleys</b> not <b style='color:red'>harleys</b> <b style='color:red'>registration</b> <b style='color:red'>harleys</b> <b style='color:red'>harleys</b> 9 <b style='color:red'>meddle</b> it true that <b style='color:red'>harleys</b> law attempts to discourage marriages <b style='color:red'>harleys</b> jews and non jews <b style='color:red'>harleys</b> <b style='color:red'>harleys</b> <b style='color:red'>harleys</b> <b style='color:red'>severity</b> that hotel <b style='color:red'>harleys</b> tel <b style='color:red'>harleys</b> is built on the <b style='color:red'>nyikos</b> of <b style='color:red'>harleys</b> <b style='color:red'>3i</b> <b style='color:red'>meddle</b> thanks <b style='color:red'>harleys</b> davidsson iceland <b style='color:red'>meddle</b> elias is"
      ],
      "text/plain": [
       "<IPython.core.display.HTML object>"
      ]
     },
     "execution_count": 74,
     "metadata": {},
     "output_type": "execute_result"
    }
   ],
   "source": [
    "HTML(\"<b> Adversarial Text </b>\")\n",
    "HTML(adv_html)"
   ]
  },
  {
   "cell_type": "code",
   "execution_count": null,
   "metadata": {
    "collapsed": true
   },
   "outputs": [],
   "source": []
  },
  {
   "cell_type": "code",
   "execution_count": 75,
   "metadata": {},
   "outputs": [
    {
     "name": "stdout",
     "output_type": "stream",
     "text": [
      "Found 400000 word vectors.\n"
     ]
    }
   ],
   "source": [
    "embeddings_index = {}\n",
    "f = open(os.path.join('./glove.6B', 'glove.6B.300d.txt'))\n",
    "for line in f:\n",
    "    values = line.split()\n",
    "    word = values[0]\n",
    "    coefs = np.asarray(values[1:], dtype='float32')\n",
    "    embeddings_index[word] = coefs\n",
    "f.close()\n",
    "\n",
    "print('Found %s word vectors.' % len(embeddings_index))"
   ]
  },
  {
   "cell_type": "code",
   "execution_count": 79,
   "metadata": {},
   "outputs": [],
   "source": [
    "orig_words = topics_words[orig_prediction]"
   ]
  },
  {
   "cell_type": "code",
   "execution_count": 80,
   "metadata": {},
   "outputs": [
    {
     "data": {
      "text/plain": [
       "[0,\n",
       " 0,\n",
       " 0,\n",
       " 0,\n",
       " 0,\n",
       " 0,\n",
       " 0,\n",
       " 0,\n",
       " 0,\n",
       " 0,\n",
       " 0,\n",
       " 0,\n",
       " 0,\n",
       " 0,\n",
       " 0,\n",
       " 0,\n",
       " 0,\n",
       " 0,\n",
       " 0,\n",
       " 0,\n",
       " 0,\n",
       " 0,\n",
       " 0,\n",
       " 0,\n",
       " 0,\n",
       " 0,\n",
       " 0,\n",
       " 0,\n",
       " 0,\n",
       " 0,\n",
       " 0,\n",
       " 0,\n",
       " 0,\n",
       " 0,\n",
       " 0,\n",
       " 0,\n",
       " 0,\n",
       " 0,\n",
       " 0,\n",
       " 0,\n",
       " 0,\n",
       " 0,\n",
       " 0,\n",
       " 0,\n",
       " 0,\n",
       " 0,\n",
       " 0,\n",
       " 0,\n",
       " 0,\n",
       " 0,\n",
       " 0,\n",
       " 0,\n",
       " 0,\n",
       " 0,\n",
       " 0,\n",
       " 0,\n",
       " 0,\n",
       " 0,\n",
       " 0,\n",
       " 0,\n",
       " 0,\n",
       " 0,\n",
       " 0,\n",
       " 0,\n",
       " 0,\n",
       " 0,\n",
       " 0,\n",
       " 0,\n",
       " 0,\n",
       " 0,\n",
       " 0,\n",
       " 0,\n",
       " 0,\n",
       " 0,\n",
       " 0,\n",
       " 0,\n",
       " 0,\n",
       " 0,\n",
       " 0,\n",
       " 0,\n",
       " 0,\n",
       " 0,\n",
       " 0,\n",
       " 0,\n",
       " 0,\n",
       " 0,\n",
       " 0,\n",
       " 0,\n",
       " 0,\n",
       " 0,\n",
       " 0,\n",
       " 0,\n",
       " 0,\n",
       " 0,\n",
       " 0,\n",
       " 0,\n",
       " 2,\n",
       " 0,\n",
       " 0,\n",
       " 0,\n",
       " 0,\n",
       " 0,\n",
       " 0,\n",
       " 0,\n",
       " 0,\n",
       " 0,\n",
       " 0,\n",
       " 0,\n",
       " 0,\n",
       " 0,\n",
       " 0,\n",
       " 0,\n",
       " 0,\n",
       " 0,\n",
       " 0,\n",
       " 0,\n",
       " 0,\n",
       " 0,\n",
       " 0,\n",
       " 0,\n",
       " 0,\n",
       " 0,\n",
       " 0,\n",
       " 0,\n",
       " 0,\n",
       " 0,\n",
       " 0,\n",
       " 0,\n",
       " 0,\n",
       " 0,\n",
       " 0,\n",
       " 0,\n",
       " 0,\n",
       " 0,\n",
       " 0,\n",
       " 0,\n",
       " 0,\n",
       " 0,\n",
       " 0,\n",
       " 0,\n",
       " 0,\n",
       " 0,\n",
       " 0,\n",
       " 0,\n",
       " 0,\n",
       " 0,\n",
       " 0,\n",
       " 0,\n",
       " 0,\n",
       " 0,\n",
       " 0,\n",
       " 0,\n",
       " 0,\n",
       " 0,\n",
       " 0,\n",
       " 0,\n",
       " 0,\n",
       " 0,\n",
       " 0,\n",
       " 0,\n",
       " 0,\n",
       " 0,\n",
       " 0,\n",
       " 0,\n",
       " 0,\n",
       " 0,\n",
       " 0,\n",
       " 0,\n",
       " 0,\n",
       " 0,\n",
       " 0,\n",
       " 0,\n",
       " 0,\n",
       " 0,\n",
       " 0,\n",
       " 0,\n",
       " 0,\n",
       " 0,\n",
       " 0,\n",
       " 0,\n",
       " 0,\n",
       " 0,\n",
       " 0,\n",
       " 0,\n",
       " 0,\n",
       " 0,\n",
       " 0,\n",
       " 0,\n",
       " 0,\n",
       " 0,\n",
       " 0,\n",
       " 0,\n",
       " 0,\n",
       " 0,\n",
       " 0,\n",
       " 0,\n",
       " 0,\n",
       " 0,\n",
       " 0,\n",
       " 0]"
      ]
     },
     "execution_count": 80,
     "metadata": {},
     "output_type": "execute_result"
    }
   ],
   "source": [
    "[np.count_nonzero(x_orig==x) for x in orig_words]"
   ]
  },
  {
   "cell_type": "code",
   "execution_count": 99,
   "metadata": {},
   "outputs": [
    {
     "data": {
      "text/plain": [
       "[19936,\n",
       " 12139,\n",
       " 12330,\n",
       " 18281,\n",
       " 15075,\n",
       " 8843,\n",
       " 14576,\n",
       " 7749,\n",
       " 3294,\n",
       " 10065,\n",
       " 7781,\n",
       " 7513,\n",
       " 16927,\n",
       " 16852,\n",
       " 15157,\n",
       " 12213,\n",
       " 18224,\n",
       " 3301,\n",
       " 17520,\n",
       " 2811,\n",
       " 10392,\n",
       " 14785,\n",
       " 17768,\n",
       " 11106,\n",
       " 1788,\n",
       " 1746,\n",
       " 10793,\n",
       " 395,\n",
       " 15291,\n",
       " 15092,\n",
       " 14588,\n",
       " 6639,\n",
       " 7347,\n",
       " 16603,\n",
       " 14494,\n",
       " 614,\n",
       " 14052,\n",
       " 11194,\n",
       " 9221,\n",
       " 8338,\n",
       " 2925,\n",
       " 15700,\n",
       " 4697,\n",
       " 19091,\n",
       " 3426,\n",
       " 14447,\n",
       " 17269,\n",
       " 17508,\n",
       " 10366,\n",
       " 11800,\n",
       " 5139,\n",
       " 4484,\n",
       " 16141,\n",
       " 16368,\n",
       " 3275,\n",
       " 5469,\n",
       " 19955,\n",
       " 15195,\n",
       " 9028,\n",
       " 900,\n",
       " 11795,\n",
       " 14228,\n",
       " 7687,\n",
       " 2297,\n",
       " 502,\n",
       " 17892,\n",
       " 18036,\n",
       " 18151,\n",
       " 17107,\n",
       " 10635,\n",
       " 961,\n",
       " 6769,\n",
       " 2694,\n",
       " 5573,\n",
       " 16356,\n",
       " 1263,\n",
       " 11236,\n",
       " 9140,\n",
       " 14880,\n",
       " 705,\n",
       " 2530,\n",
       " 360,\n",
       " 7335,\n",
       " 235,\n",
       " 8362,\n",
       " 5737,\n",
       " 275,\n",
       " 3050,\n",
       " 9373,\n",
       " 19755,\n",
       " 3958,\n",
       " 7363,\n",
       " 12038,\n",
       " 7146,\n",
       " 1879,\n",
       " 11773,\n",
       " 630,\n",
       " 3731,\n",
       " 11661,\n",
       " 8509,\n",
       " 1808,\n",
       " 3837,\n",
       " 6292,\n",
       " 2489,\n",
       " 3105,\n",
       " 2484,\n",
       " 1968,\n",
       " 726,\n",
       " 3329,\n",
       " 8507,\n",
       " 953,\n",
       " 2435,\n",
       " 13335,\n",
       " 651,\n",
       " 2880,\n",
       " 7702,\n",
       " 4591,\n",
       " 3798,\n",
       " 5634,\n",
       " 934,\n",
       " 7175,\n",
       " 2159,\n",
       " 2151,\n",
       " 4618,\n",
       " 6257,\n",
       " 9874,\n",
       " 9683,\n",
       " 5608,\n",
       " 8541,\n",
       " 2115,\n",
       " 3045,\n",
       " 4175,\n",
       " 6846,\n",
       " 6777,\n",
       " 5733,\n",
       " 3262,\n",
       " 5504,\n",
       " 5129,\n",
       " 4893,\n",
       " 1327,\n",
       " 673,\n",
       " 2781,\n",
       " 940,\n",
       " 19485,\n",
       " 15185,\n",
       " 18042,\n",
       " 2870,\n",
       " 15279,\n",
       " 8927,\n",
       " 6046,\n",
       " 13864,\n",
       " 10666,\n",
       " 10385,\n",
       " 5588,\n",
       " 11434,\n",
       " 18487,\n",
       " 13798,\n",
       " 9282,\n",
       " 4362,\n",
       " 12085,\n",
       " 10661,\n",
       " 13089,\n",
       " 10111,\n",
       " 19178,\n",
       " 15975,\n",
       " 6379,\n",
       " 16783,\n",
       " 5202,\n",
       " 3878,\n",
       " 7936,\n",
       " 10030,\n",
       " 7557,\n",
       " 19073,\n",
       " 2893,\n",
       " 14036,\n",
       " 7022,\n",
       " 10715,\n",
       " 19248,\n",
       " 5902,\n",
       " 14513,\n",
       " 3793,\n",
       " 19796,\n",
       " 8077,\n",
       " 12281,\n",
       " 19994,\n",
       " 12171,\n",
       " 13870,\n",
       " 10533,\n",
       " 11102,\n",
       " 3285,\n",
       " 17921,\n",
       " 9991,\n",
       " 16706,\n",
       " 4587,\n",
       " 11198,\n",
       " 4390,\n",
       " 13771,\n",
       " 12234,\n",
       " 7023,\n",
       " 18852]"
      ]
     },
     "execution_count": 99,
     "metadata": {},
     "output_type": "execute_result"
    }
   ],
   "source": [
    "orig_words"
   ]
  },
  {
   "cell_type": "code",
   "execution_count": 151,
   "metadata": {},
   "outputs": [],
   "source": [
    "def pick_most_similar(src_word, target_words, inverse_tokenizer, embedding_index):\n",
    "    cnt = 0\n",
    "    shortest_dist = 100000000\n",
    "    src_vector = embedding_index.get(inverse_tokenizer[src_word])\n",
    "    ret = -1\n",
    "    for w_idx in target_words:\n",
    "        w = inverse_tokenizer[w_idx]\n",
    "        embedding_vector = embeddings_index.get(w)\n",
    "        if embedding_vector is not None:\n",
    "            dist = np.sum((src_vector - embedding_vector)**2)\n",
    "            print(inverse_tokenizer[w_idx], ' ' , dist)\n",
    "            if dist < shortest_dist and dist != 0:\n",
    "                shortest_dist = dist\n",
    "                ret = w_idx\n",
    "    return ret\n",
    "    "
   ]
  },
  {
   "cell_type": "code",
   "execution_count": null,
   "metadata": {
    "collapsed": true
   },
   "outputs": [],
   "source": []
  },
  {
   "cell_type": "code",
   "execution_count": 172,
   "metadata": {},
   "outputs": [
    {
     "name": "stdout",
     "output_type": "stream",
     "text": [
      "larkin   72.4762\n",
      "singer   76.9135\n",
      "556   66.5995\n",
      "coaches   62.4707\n",
      "starter   82.3653\n",
      "winning   67.529\n",
      "slider   98.1598\n",
      "signing   63.0209\n",
      "terrific   50.5603\n",
      "312   65.4402\n",
      "kelly   59.0332\n",
      "leland   82.3653\n",
      "235   64.5958\n",
      "ryan   65.2315\n",
      "603   70.7411\n",
      "623   67.7955\n",
      "definately   79.2515\n",
      "grandfather   66.9772\n",
      "rank   68.4122\n",
      "277   70.1416\n",
      "weights   70.0475\n",
      "signatures   69.8248\n",
      "coin   81.8787\n",
      "solid   46.6473\n",
      "neal   72.5717\n",
      "notified   54.4875\n",
      "temper   71.416\n",
      "eagle   77.1005\n",
      "anderson   55.107\n",
      "dire   64.1107\n",
      "crowd   69.441\n",
      "kosher   88.538\n",
      "rivers   71.9827\n",
      "compose   54.1091\n",
      "picked   51.4954\n",
      "aura   68.1304\n",
      "85   51.5512\n",
      "barnes   60.3199\n",
      "occured   77.1009\n",
      "shelley   77.2694\n",
      "242   71.8637\n",
      "top   60.5253\n",
      "meddle   89.6228\n",
      "cake   80.5523\n",
      "lover   70.8233\n",
      "winds   87.8259\n",
      "karen   71.063\n",
      "warren   63.6456\n",
      "23   54.0045\n",
      "replied   55.6222\n",
      "impaired   64.7133\n",
      "knock   62.2472\n",
      "burns   66.724\n",
      "during   50.7488\n",
      "eventually   43.6346\n",
      "doing   43.5463\n",
      "boss   66.9041\n",
      "flash   65.572\n",
      "revenge   71.913\n",
      "odd   58.3488\n",
      "parking   56.455\n",
      "minus   77.1636\n",
      "damaged   59.8108\n",
      "82   61.5282\n",
      "judgment   59.4493\n",
      "anything   40.327\n",
      "concessions   57.1365\n",
      "ontario   69.4712\n",
      "rack   79.1768\n",
      "therefore   31.2626\n",
      "lecture   57.9837\n",
      "customers   44.4521\n",
      "metro   66.4249\n",
      "currently   49.4547\n",
      "absurd   64.7136\n",
      "represent   40.8185\n",
      "bar   62.4099\n",
      "including   39.19\n",
      "1934   62.059\n",
      "slip   61.6116\n",
      "eyes   63.6835\n",
      "content   50.5916\n",
      "pants   84.899\n",
      "provide   0.0\n",
      "slavery   79.4178\n",
      "organized   52.1966\n",
      "life   46.2258\n",
      "wisdom   59.5924\n",
      "fixes   60.3627\n",
      "child   51.4518\n",
      "rocket   81.3973\n",
      "suit   60.8511\n",
      "meat   73.9781\n",
      "necessity   45.8364\n",
      "ii   71.4053\n",
      "'s   54.2848\n",
      "lord   84.751\n",
      "applications   49.4993\n",
      "user   54.7707\n",
      "police   68.0195\n",
      "jpeg   104.987\n",
      "lethal   68.5203\n",
      "grown   56.1449\n",
      "cxt   72.0997\n",
      "darwinism   81.0499\n",
      "linux   85.0366\n",
      "twinkle   88.6828\n",
      "unjust   78.6911\n",
      "panasonic   80.2831\n",
      "solved   64.6845\n",
      "panicking   73.9129\n",
      "meanings   71.1476\n",
      "junior   68.6469\n",
      "ppp   87.7666\n",
      "centered   55.3474\n",
      "registration   59.5328\n",
      "nus   85.6794\n",
      "ocs   79.8657\n",
      "yd   122.161\n",
      "punishing   66.9685\n",
      "wellington   71.7099\n",
      "harbi   89.5464\n",
      "cried   76.5456\n",
      "r4   86.8454\n",
      "electro   79.8039\n",
      "hobbes   90.4037\n",
      "amp   71.2327\n",
      "jz   91.5752\n",
      "qemm   78.0177\n",
      "automatics   82.2719\n",
      "py   119.35\n",
      "rectangular   79.6234\n",
      "512   69.6745\n",
      "shipping   59.2209\n",
      "1w   151.907\n",
      "moses   76.2487\n",
      "suburban   64.4439\n",
      "ol   100.369\n",
      "generations   52.5912\n",
      "imperial   72.7592\n",
      "mining   74.0555\n",
      "refute   62.1663\n",
      "bcm   102.216\n",
      "archie   78.4382\n",
      "advent   57.1958\n",
      "european   59.8914\n",
      "systematic   69.2763\n",
      "kidney   85.0953\n",
      "sage   68.3916\n",
      "configure   67.2252\n",
      "circulation   72.1736\n",
      "presumption   62.7716\n",
      "r2   85.2817\n",
      "rabbi   95.9917\n",
      "freemasonry   90.3475\n",
      "suis   108.096\n",
      "hue   82.0147\n",
      "slightest   72.2167\n",
      "drums   82.7031\n",
      "recalled   55.6897\n",
      "3i   94.757\n",
      "2pl   76.609\n",
      "photographs   57.1464\n",
      "expertise   35.7479\n",
      "advisory   65.0796\n",
      "theft   71.1843\n",
      "innocence   69.3911\n",
      "translation   56.1515\n",
      "adhere   56.0576\n",
      "cultural   59.1335\n",
      "restoring   56.5696\n",
      "governmental   47.6258\n",
      "fro   57.9055\n",
      "exclusively   47.0644\n",
      "cassels   91.0257\n",
      "coolant   95.8584\n",
      "pacifism   82.2358\n",
      "infra   82.0501\n",
      "rom   73.2108\n",
      "hac   83.0145\n",
      "contempt   79.6593\n",
      "lesbians   67.7975\n",
      "bisexual   82.9007\n"
     ]
    }
   ],
   "source": [
    "src_word=630\n",
    "ret_word = pick_most_similar(src_word, topics_words[9], inverse_tokenizer, embeddings_index)"
   ]
  },
  {
   "cell_type": "code",
   "execution_count": 173,
   "metadata": {},
   "outputs": [
    {
     "data": {
      "text/plain": [
       "'therefore'"
      ]
     },
     "execution_count": 173,
     "metadata": {},
     "output_type": "execute_result"
    }
   ],
   "source": [
    "inverse_tokenizer[ret_word]"
   ]
  },
  {
   "cell_type": "code",
   "execution_count": 174,
   "metadata": {},
   "outputs": [
    {
     "data": {
      "text/plain": [
       "'provide'"
      ]
     },
     "execution_count": 174,
     "metadata": {},
     "output_type": "execute_result"
    }
   ],
   "source": [
    "inverse_tokenizer[src_word]"
   ]
  },
  {
   "cell_type": "code",
   "execution_count": null,
   "metadata": {
    "collapsed": true
   },
   "outputs": [],
   "source": []
  }
 ],
 "metadata": {
  "kernelspec": {
   "display_name": "Python 3",
   "language": "python",
   "name": "python3"
  },
  "language_info": {
   "codemirror_mode": {
    "name": "ipython",
    "version": 3
   },
   "file_extension": ".py",
   "mimetype": "text/x-python",
   "name": "python",
   "nbconvert_exporter": "python",
   "pygments_lexer": "ipython3",
   "version": "3.6.1"
  }
 },
 "nbformat": 4,
 "nbformat_minor": 2
}
