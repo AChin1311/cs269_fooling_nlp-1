{
 "cells": [
  {
   "cell_type": "code",
   "execution_count": 1,
   "metadata": {},
   "outputs": [],
   "source": [
    "%load_ext autoreload\n",
    "%autoreload 2\n",
    "\n",
    "import matplotlib.pyplot as plt\n",
    "%matplotlib inline\n",
    "\n",
    "from IPython.core.display import HTML"
   ]
  },
  {
   "cell_type": "code",
   "execution_count": 2,
   "metadata": {},
   "outputs": [
    {
     "name": "stderr",
     "output_type": "stream",
     "text": [
      "Using TensorFlow backend.\n"
     ]
    }
   ],
   "source": [
    "\n",
    "import numpy as np\n",
    "import os\n",
    "import data_utils\n",
    "import pickle\n",
    "import attacks\n",
    "import random\n",
    "from keras.models import load_model\n",
    "\n",
    "import greedy_utils"
   ]
  },
  {
   "cell_type": "code",
   "execution_count": 3,
   "metadata": {
    "collapsed": true
   },
   "outputs": [],
   "source": [
    "TOKENIZER_PATH = 'tokenizer.pickle'\n",
    "TEXT_DATA_DIR = '20_newsgroup/'\n",
    "MODEL_PATH = '20news_model.h5'"
   ]
  },
  {
   "cell_type": "code",
   "execution_count": 4,
   "metadata": {
    "collapsed": true
   },
   "outputs": [],
   "source": [
    "tokenizer, inverse_tokenizer = data_utils.load_tokenizer(TOKENIZER_PATH)\n",
    "model = load_model(MODEL_PATH)\n",
    "labels =  list(sorted(os.listdir(TEXT_DATA_DIR)))"
   ]
  },
  {
   "cell_type": "code",
   "execution_count": 5,
   "metadata": {
    "collapsed": true
   },
   "outputs": [],
   "source": [
    "sample_file, true_label = data_utils.pick_random_file(TEXT_DATA_DIR)\n",
    "file_text = data_utils.load_textfile(sample_file)\n",
    "file_features = data_utils.process_text(tokenizer, file_text)"
   ]
  },
  {
   "cell_type": "code",
   "execution_count": 6,
   "metadata": {},
   "outputs": [
    {
     "name": "stdout",
     "output_type": "stream",
     "text": [
      "TrueLabel = talk.politics.mideast\n",
      "Predicted \"talk.politics.mideast\" with 0.283052 .\n"
     ]
    }
   ],
   "source": [
    "pred_scores = model.predict(file_features)\n",
    "orig_prediction = np.argmax(pred_scores[0])\n",
    "print('TrueLabel = %s' %true_label)\n",
    "print('Predicted \"%s\" with %f .' %(labels[orig_prediction], pred_scores[0][orig_prediction]))"
   ]
  },
  {
   "cell_type": "markdown",
   "metadata": {},
   "source": [
    "## Randomised Attack (Non-targeted)"
   ]
  },
  {
   "cell_type": "markdown",
   "metadata": {},
   "source": [
    " Random attack will pick and replace words randomly."
   ]
  },
  {
   "cell_type": "code",
   "execution_count": 9,
   "metadata": {},
   "outputs": [],
   "source": [
    "COMPUTE_PROBS = False\n",
    "if COMPUTE_PROBS:\n",
    "    num_words = len(inverse_tokenizer)\n",
    "    topics_words, topics_words_probs = greedy_utils.compute_topic_words(TEXT_DATA_DIR, tokenizer, \n",
    "                                                                  labels, num_words)\n",
    "    with open('topic_words.pickle', 'wb') as handle:\n",
    "        pickle.dump(topics_words, handle, protocol=pickle.HIGHEST_PROTOCOL)\n",
    "    with open('topc_words_probs.pickle', 'wb') as handle:\n",
    "        pickle.dump(topics_words_probs, handle, protocol=pickle.HIGHEST_PROTOCOL)\n",
    "else:\n",
    "    with open('topic_words.pickle', 'rb') as handle:\n",
    "        topics_words = pickle.load(handle)\n",
    "    with open('topc_words_probs.pickle', 'rb') as handle:\n",
    "        topics_words_probs = pickle.load( handle)"
   ]
  },
  {
   "cell_type": "code",
   "execution_count": 68,
   "metadata": {},
   "outputs": [],
   "source": [
    "greedy_attack = attacks.GreedyAttack(model, topics_words, topics_words_probs, temp=0.15)"
   ]
  },
  {
   "cell_type": "code",
   "execution_count": 69,
   "metadata": {},
   "outputs": [
    {
     "name": "stdout",
     "output_type": "stream",
     "text": [
      "Random target = rec.motorcycles\n"
     ]
    }
   ],
   "source": [
    "other_labels = [x for x in range(len(labels)) if x != orig_prediction]\n",
    "random_target = np.random.choice(other_labels)\n",
    "print('Random target = %s' %labels[random_target])\n",
    "x_orig = file_features.copy()\n",
    "x_adv, o_hist, t_hist = greedy_attack.attack(x_orig, random_target)"
   ]
  },
  {
   "cell_type": "code",
   "execution_count": 70,
   "metadata": {},
   "outputs": [
    {
     "name": "stdout",
     "output_type": "stream",
     "text": [
      "Attack succeeded after 108 iterations.\n",
      "Original class: talk.politics.mideast, Attack class: rec.motorcycles\n",
      "Number of changed words = 87 (28.16 %)\n"
     ]
    },
    {
     "data": {
      "image/png": "[encoded data removed]",
      "text/plain": [
       "<matplotlib.figure.Figure at 0x7fe9036dc9e8>"
      ]
     },
     "metadata": {},
     "output_type": "display_data"
    }
   ],
   "source": [
    "if x_adv is None:\n",
    "    print('Attack failed. !')\n",
    "else:\n",
    "    adv_prediction = np.argmax(model.predict(x_adv))\n",
    "    print('Attack succeeded after %d iterations.' %(len(t_hist)))\n",
    "    print('Original class: %s, Attack class: %s' %(labels[orig_prediction], labels[adv_prediction]))\n",
    "    print(\"Number of changed words = %d (%0.2f %%)\"\n",
    "          %(np.count_nonzero(x_adv != x_orig),\n",
    "            100*(np.count_nonzero(x_adv != x_orig))/np.count_nonzero(x_orig)))\n",
    "    plt.plot(o_hist, 'g', label=labels[orig_prediction])\n",
    "    plt.plot(t_hist, 'r', label=labels[adv_prediction])\n",
    "    plt.legend()"
   ]
  },
  {
   "cell_type": "markdown",
   "metadata": {},
   "source": [
    "## Reconstruct Text Document"
   ]
  },
  {
   "cell_type": "code",
   "execution_count": 71,
   "metadata": {
    "collapsed": true
   },
   "outputs": [],
   "source": [
    "orig_text = data_utils.reconstruct_text(inverse_tokenizer, file_features[0])\n",
    "adv_text = data_utils.reconstruct_text(inverse_tokenizer, x_adv[0])"
   ]
  },
  {
   "cell_type": "markdown",
   "metadata": {},
   "source": [
    "## Visualize Attack"
   ]
  },
  {
   "cell_type": "code",
   "execution_count": 72,
   "metadata": {
    "collapsed": true
   },
   "outputs": [],
   "source": [
    "orig_html, adv_html = data_utils.render_attack(orig_text, adv_text)"
   ]
  },
  {
   "cell_type": "code",
   "execution_count": 73,
   "metadata": {},
   "outputs": [
    {
     "data": {
      "text/html": [
       "from center for policy research cpr subject ten questions <b style='color:green'>about</b> israel ten questions to israelis <b style='color:green'>i</b> would be thankful <b style='color:green'>if</b> any of you <b style='color:green'>who</b> live in israel could <b style='color:green'>help</b> <b style='color:green'>to</b> provide accurate answers to the following specific <b style='color:green'>questions</b> <b style='color:green'>these</b> are indeed provocative <b style='color:green'>questions</b> <b style='color:green'>but</b> they are <b style='color:green'>asked</b> <b style='color:green'>time</b> and again by people around me <b style='color:green'>1</b> is <b style='color:green'>it</b> true that the <b style='color:green'>israeli</b> authorities don't <b style='color:green'>recognize</b> israeli <b style='color:green'>nationality</b> and <b style='color:green'>that</b> id cards which israeli <b style='color:green'>citizens</b> must <b style='color:green'>carry</b> <b style='color:green'>at</b> all <b style='color:green'>times</b> <b style='color:green'>identify</b> people as jews or arabs <b style='color:green'>not</b> <b style='color:green'>as</b> <b style='color:green'>israelis</b> <b style='color:green'>2</b> is it true that <b style='color:green'>the</b> state <b style='color:green'>of</b> <b style='color:green'>israel</b> <b style='color:green'>has</b> no <b style='color:green'>fixed</b> borders and that israeli governments from <b style='color:green'>1948</b> <b style='color:green'>until</b> <b style='color:green'>today</b> <b style='color:green'>have</b> refused to state <b style='color:green'>where</b> <b style='color:green'>the</b> ultimate borders of <b style='color:green'>the</b> state of israel should be <b style='color:green'>3</b> is it true that israeli stocks nuclear weapons if so <b style='color:green'>could</b> <b style='color:green'>you</b> <b style='color:green'>provide</b> any <b style='color:green'>evidence</b> 4 is it <b style='color:green'>true</b> that in israeli prisons <b style='color:green'>there</b> are a <b style='color:green'>number</b> <b style='color:green'>of</b> individuals which were tried in <b style='color:green'>secret</b> <b style='color:green'>and</b> for <b style='color:green'>which</b> their identities the date of their <b style='color:green'>trial</b> and their imprisonment <b style='color:green'>are</b> state secrets 5 is <b style='color:green'>it</b> true that jews who in the occupied territories are subject to different laws <b style='color:green'>than</b> non jews 6 is it <b style='color:green'>true</b> that <b style='color:green'>jews</b> <b style='color:green'>who</b> left palestine in the war 1947 48 to avoid the war were automatically allowed to return while their christian <b style='color:green'>neighbors</b> who did the same <b style='color:green'>were</b> not allowed <b style='color:green'>to</b> return 7 is it true that <b style='color:green'>israel's</b> prime minister y rabin signed <b style='color:green'>an</b> order for ethnical cleansing in 1948 as is done <b style='color:green'>today</b> in <b style='color:green'>bosnia</b> herzegovina 8 is it <b style='color:green'>true</b> that <b style='color:green'>israeli</b> arab citizens <b style='color:green'>are</b> not <b style='color:green'>admitted</b> <b style='color:green'>as</b> <b style='color:green'>members</b> <b style='color:green'>in</b> 9 <b style='color:green'>is</b> it true that <b style='color:green'>israeli</b> law attempts to discourage marriages <b style='color:green'>between</b> jews and non jews <b style='color:green'>10</b> <b style='color:green'>is</b> <b style='color:green'>it</b> <b style='color:green'>true</b> that hotel <b style='color:green'>in</b> tel <b style='color:green'>aviv</b> is built on the <b style='color:green'>site</b> of <b style='color:green'>a</b> <b style='color:green'>muslim</b> <b style='color:green'>cemetery</b> thanks <b style='color:green'>elias</b> davidsson iceland <b style='color:green'>email</b> elias is"
      ],
      "text/plain": [
       "<IPython.core.display.HTML object>"
      ]
     },
     "execution_count": 73,
     "metadata": {},
     "output_type": "execute_result"
    }
   ],
   "source": [
    "HTML(\"<b> Original Text </b>\")\n",
    "HTML(orig_html)"
   ]
  },
  {
   "cell_type": "code",
   "execution_count": 74,
   "metadata": {},
   "outputs": [
    {
     "data": {
      "text/html": [
       "from center for policy research cpr subject ten questions <b style='color:red'>presumption</b> israel ten questions to israelis <b style='color:red'>harleys</b> would be thankful <b style='color:red'>harleys</b> any of you <b style='color:red'>harleys</b> live in israel could <b style='color:red'>harleys</b> <b style='color:red'>rom</b> provide accurate answers to the following specific <b style='color:red'>kaldis</b> <b style='color:red'>bisexual</b> are indeed provocative <b style='color:red'>meddle</b> <b style='color:red'>police</b> they are <b style='color:red'>harleys</b> <b style='color:red'>harleys</b> and again by people around me <b style='color:red'>harleys</b> is <b style='color:red'>harleys</b> true that the <b style='color:red'>harleys</b> authorities don't <b style='color:red'>harleys</b> israeli <b style='color:red'>harleys</b> and <b style='color:red'>harleys</b> id cards which israeli <b style='color:red'>harleys</b> must <b style='color:red'>harleys</b> <b style='color:red'>refute</b> all <b style='color:red'>harleys</b> <b style='color:red'>harleys</b> people as jews or arabs <b style='color:red'>harleys</b> <b style='color:red'>harleys</b> <b style='color:red'>coolant</b> <b style='color:red'>harleys</b> is it true that <b style='color:red'>harleys</b> state <b style='color:red'>kelly</b> <b style='color:red'>wheels</b> <b style='color:red'>harleys</b> no <b style='color:red'>cultural</b> borders and that israeli governments from <b style='color:red'>advent</b> <b style='color:red'>harleys</b> <b style='color:red'>harleys</b> <b style='color:red'>harleys</b> refused to state <b style='color:red'>harleys</b> <b style='color:red'>coolant</b> ultimate borders of <b style='color:red'>harleys</b> state of israel should be <b style='color:red'>harleys</b> is it true that israeli stocks nuclear weapons if so <b style='color:red'>harleys</b> <b style='color:red'>zalapski</b> <b style='color:red'>harleys</b> any <b style='color:red'>harleys</b> 4 is it <b style='color:red'>harleys</b> that in israeli prisons <b style='color:red'>solved</b> are a <b style='color:red'>unisql</b> <b style='color:red'>meddle</b> individuals which were tried in <b style='color:red'>harleys</b> <b style='color:red'>harleys</b> for <b style='color:red'>1993apr23</b> their identities the date of their <b style='color:red'>singer</b> and their imprisonment <b style='color:red'>harleys</b> state secrets 5 is <b style='color:red'>hobbes</b> true that jews who in the occupied territories are subject to different laws <b style='color:red'>harleys</b> non jews 6 is it <b style='color:red'>harleys</b> that <b style='color:red'>harleys</b> <b style='color:red'>harleys</b> left palestine in the war 1947 48 to avoid the war were automatically allowed to return while their christian <b style='color:red'>harleys</b> who did the same <b style='color:red'>suit</b> not allowed <b style='color:red'>unisql</b> return 7 is it true that <b style='color:red'>meddle</b> prime minister y rabin signed <b style='color:red'>harleys</b> order for ethnical cleansing in 1948 as is done <b style='color:red'>expertise</b> in <b style='color:red'>harleys</b> herzegovina 8 is it <b style='color:red'>6f1</b> that <b style='color:red'>harleys</b> arab citizens <b style='color:red'>harleys</b> not <b style='color:red'>harleys</b> <b style='color:red'>registration</b> <b style='color:red'>harleys</b> <b style='color:red'>harleys</b> 9 <b style='color:red'>meddle</b> it true that <b style='color:red'>harleys</b> law attempts to discourage marriages <b style='color:red'>harleys</b> jews and non jews <b style='color:red'>harleys</b> <b style='color:red'>harleys</b> <b style='color:red'>harleys</b> <b style='color:red'>severity</b> that hotel <b style='color:red'>harleys</b> tel <b style='color:red'>harleys</b> is built on the <b style='color:red'>nyikos</b> of <b style='color:red'>harleys</b> <b style='color:red'>3i</b> <b style='color:red'>meddle</b> thanks <b style='color:red'>harleys</b> davidsson iceland <b style='color:red'>meddle</b> elias is"
      ],
      "text/plain": [
       "<IPython.core.display.HTML object>"
      ]
     },
     "execution_count": 74,
     "metadata": {},
     "output_type": "execute_result"
    }
   ],
   "source": [
    "HTML(\"<b> Adversarial Text </b>\")\n",
    "HTML(adv_html)"
   ]
  },
  {
   "cell_type": "code",
   "execution_count": null,
   "metadata": {
    "collapsed": true
   },
   "outputs": [],
   "source": []
  },
  {
   "cell_type": "code",
   "execution_count": null,
   "metadata": {
    "collapsed": true
   },
   "outputs": [],
   "source": []
  }
 ],
 "metadata": {
  "kernelspec": {
   "display_name": "Python 3",
   "language": "python",
   "name": "python3"
  },
  "language_info": {
   "codemirror_mode": {
    "name": "ipython",
    "version": 3
   },
   "file_extension": ".py",
   "mimetype": "text/x-python",
   "name": "python",
   "nbconvert_exporter": "python",
   "pygments_lexer": "ipython3",
   "version": "3.6.1"
  }
 },
 "nbformat": 4,
 "nbformat_minor": 2
}
