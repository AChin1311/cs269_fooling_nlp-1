{
 "cells": [
  {
   "cell_type": "code",
   "execution_count": 1,
   "metadata": {},
   "outputs": [],
   "source": [
    "%load_ext autoreload\n",
    "%autoreload 2\n",
    "\n",
    "import matplotlib.pyplot as plt\n",
    "%matplotlib inline\n",
    "\n",
    "from IPython.core.display import HTML"
   ]
  },
  {
   "cell_type": "code",
   "execution_count": 2,
   "metadata": {},
   "outputs": [
    {
     "name": "stderr",
     "output_type": "stream",
     "text": [
      "Using TensorFlow backend.\n"
     ]
    }
   ],
   "source": [
    "\n",
    "import numpy as np\n",
    "import os\n",
    "import data_utils\n",
    "from keras.models import load_model"
   ]
  },
  {
   "cell_type": "code",
   "execution_count": 3,
   "metadata": {
    "collapsed": true
   },
   "outputs": [],
   "source": [
    "TOKENIZER_PATH = 'tokenizer.pickle'\n",
    "TEXT_DATA_DIR = '20_newsgroup/'\n",
    "MODEL_PATH = '20news_model.h5'"
   ]
  },
  {
   "cell_type": "code",
   "execution_count": 4,
   "metadata": {
    "collapsed": true
   },
   "outputs": [],
   "source": [
    "tokenizer, inverse_tokenizer = data_utils.load_tokenizer(TOKENIZER_PATH)\n",
    "model = load_model(MODEL_PATH)\n",
    "labels =  list(sorted(os.listdir(TEXT_DATA_DIR)))"
   ]
  },
  {
   "cell_type": "code",
   "execution_count": 5,
   "metadata": {
    "collapsed": true
   },
   "outputs": [],
   "source": [
    "sample_file = '20_newsgroup/alt.atheism/51060'\n",
    "file_text = data_utils.load_textfile(sample_file)\n",
    "file_features = data_utils.process_text(tokenizer, file_text)"
   ]
  },
  {
   "cell_type": "code",
   "execution_count": 6,
   "metadata": {},
   "outputs": [
    {
     "name": "stdout",
     "output_type": "stream",
     "text": [
      "Predicted \"alt.atheism\" with 0.155570 .\n"
     ]
    }
   ],
   "source": [
    "pred_scores = model.predict(file_features)\n",
    "orig_prediction = np.argmax(pred_scores[0])\n",
    "print('Predicted \"%s\" with %f .' %(labels[orig_prediction], pred_scores[0][orig_prediction]))"
   ]
  },
  {
   "cell_type": "markdown",
   "metadata": {},
   "source": [
    "## Random Attack (Non-targeted)"
   ]
  },
  {
   "cell_type": "markdown",
   "metadata": {},
   "source": [
    " Random attack will pick and replace words randomly."
   ]
  },
  {
   "cell_type": "code",
   "execution_count": 7,
   "metadata": {
    "collapsed": true
   },
   "outputs": [],
   "source": [
    "num_words = len(tokenizer.word_index)"
   ]
  },
  {
   "cell_type": "code",
   "execution_count": 8,
   "metadata": {},
   "outputs": [
    {
     "name": "stdout",
     "output_type": "stream",
     "text": [
      "Attack successful after : 20 iterations\n",
      "Number of changed words = 20 (2.000)\n",
      "Original class \"alt.atheism\" - New class: \"talk.religion.misc\"\n"
     ]
    }
   ],
   "source": [
    "y_orig = []\n",
    "x_adv = file_features.copy()\n",
    "orig_pred = orig_prediction\n",
    "iter_idx = 0\n",
    "while True:\n",
    "    iter_idx += 1\n",
    "    # perturb another random word\n",
    "    word_idx = np.random.choice(len(x_adv[0]))\n",
    "    while x_adv[0][word_idx] == 0:\n",
    "        # don't perturb paddings\n",
    "        word_idx = np.random.choice(len(x_adv[0]))\n",
    "    # select new word\n",
    "    x_adv[0][word_idx] = np.random.choice(num_words)\n",
    "    pred_scores = model.predict(x_adv)\n",
    "    new_pred = np.argmax(pred_scores)\n",
    "    y_orig.append(pred_scores[0][orig_pred])\n",
    "    if new_pred != orig_pred:\n",
    "        # Attack done !\n",
    "        break\n",
    "print(\"Attack successful after : %d iterations\" %(iter_idx))\n",
    "num_changed = np.count_nonzero(file_features!=x_adv)\n",
    "num_features = np.count_nonzero(file_features)\n",
    "print(\"Number of changed words = %d (%0.3f)\"\n",
    "      %(num_changed, 100.0*float(num_changed)/num_features))\n",
    "print(\"Original class \\\"%s\\\" - New class: \\\"%s\\\"\" %(labels[orig_pred], labels[new_pred]))"
   ]
  },
  {
   "cell_type": "markdown",
   "metadata": {},
   "source": [
    "## Reconstruct Text Document"
   ]
  },
  {
   "cell_type": "code",
   "execution_count": 17,
   "metadata": {},
   "outputs": [],
   "source": [
    "orig_text = data_utils.reconstruct_text(inverse_tokenizer, file_features[0])\n",
    "adv_text = data_utils.reconstruct_text(inverse_tokenizer, x_adv[0])\n",
    "\n"
   ]
  },
  {
   "cell_type": "markdown",
   "metadata": {},
   "source": [
    "## Visualize Attack"
   ]
  },
  {
   "cell_type": "code",
   "execution_count": 18,
   "metadata": {
    "collapsed": true
   },
   "outputs": [],
   "source": [
    "orig_html, adv_html = data_utils.render_attack(orig_text, adv_text)"
   ]
  },
  {
   "cell_type": "code",
   "execution_count": 20,
   "metadata": {},
   "outputs": [
    {
     "data": {
      "text/html": [
       "look at christianity there are many competing groups all convinced that they are the only true christians sometimes they even fight and kill each other how is an atheist supposed to decide who's a real christian and who isn't when even the major christian churches like the catholic church and the church of england can't decide amongst themselves in the end most atheists take a pragmatic view and decide that anyone who calls himself a christian <b style='color:green'>and</b> uses christian belief or dogma to <b style='color:green'>justify</b> his actions should be considered a christian maybe some of those christians are just christian teaching for their own ends but surely if the bible can be so readily used to support un christian acts it can't be much of a moral code if the bible is the word of god why couldn't he have made it less easy to and how do you know that your beliefs aren't a of what your god intended if there is no single unambiguous interpretation of the bible then why should an atheist take one interpretation over another just on your say so sorry but if someone claims that he believes in jesus and that he murdered others because jesus and the bible told him to do so we must call him a christian obviously those extreme sorts of beliefs should be questioned but <b style='color:green'>since</b> nobody has ever proved that god does not exist it must be very unlikely that more basic religious beliefs shared by all faiths are nonsense that does not hold because as was pointed out at the start of this dialogue positive assertions concerning the existence of entities are inherently much harder to disprove than negative ones nobody has ever proved that unicorns don't exist but that doesn't make it unlikely that they are myths it is therefore much more valid to hold a negative assertion by default than it is to hold a positive assertion by default of course weak atheists would argue that asserting nothing is better still well if so great why are there so many theists unfortunately the popularity of <b style='color:green'>a</b> belief has little to do with how correct it is or whether it works consider how many people believe in and other pseudo sciences many atheists feel that it is simply a human weakness to want to believe in gods certainly in many primitive human societies <b style='color:green'>religion</b> allows the people to deal with phenomena that they do not adequately understand of course <b style='color:green'>there's</b> more to religion than that in the world we find people believing in religious explanations of phenomena even when there are perfectly adequate natural explanations religion may have started as a means of attempting to <b style='color:green'>explain</b> the world but nowadays it serves other purposes as well but so many cultures have developed religions surely that must say something not really <b style='color:green'>most</b> religions are only similar for example it's worth remembering that religions such as buddhism and taoism lack <b style='color:green'>any</b> sort of concept of god in the <b style='color:green'>christian</b> sense of course most religions are quick to competing religions so it's rather odd to use one religion to try and justify another what about all the famous scientists and philosophers who have concluded that god exists for every scientist or philosopher who believes in a god there is one who does not besides as has already been pointed out the truth of a belief is not determined by how many people believe it also it is important to realize that atheists do not view famous scientists or philosophers in the same way that theists view their religious leaders a famous scientist is only human <b style='color:green'>she</b> may be an expert in some fields but when she talks about other matters her words carry no special weight many respected scientists have <b style='color:green'>made</b> themselves look foolish by speaking on subjects which lie outside their fields of expertise so <b style='color:green'>are</b> you really saying that <b style='color:green'>widespread</b> belief in religion indicates nothing not entirely it certainly indicates that the religion in question has properties which have helped it so spread so far the theory of talks of memes sets of ideas which can themselves between human minds by analogy with genes some atheists view religions as sets of particularly successful memes which spread by encouraging their hosts to convert others some memes avoid destruction by believers from questioning doctrine or <b style='color:green'>by</b> using peer pressure to keep one time believers from admitting that they were mistaken some religious memes even encourage their hosts to destroy hosts controlled by other memes of course in the view there is no particular virtue associated with successful propagation of a meme religion is not a good thing because of the number of people who believe it any more than a disease is a good thing because <b style='color:green'>of</b> the number of people who have caught it even if religion is not entirely true at least it puts across important messages what are the fundamental messages of atheism there are many important ideas atheists promote the following are just a few of them don't be surprised to see ideas which are <b style='color:green'>also</b> present in some religions there is more to moral behaviour than following rules be especially sceptical of positive claims if you want <b style='color:green'>your</b> life to have some sort of meaning <b style='color:green'>it's</b> up to you to find it search for what is true even if it makes you uncomfortable make the most of your life as it's probably the only one you'll have it's no good relying on some external power to change you you must change yourself just because popular doesn't mean it's good if you must assume something assume something it's easy to test don't believe things just because you want them to be true and finally and most importantly all beliefs should be open to question thanks for taking the time to read this article mathew <b style='color:green'>begin</b> pgp signature version 2 2 q end pgp signature for information about pgp 2 2 send mail to mantis co uk"
      ],
      "text/plain": [
       "<IPython.core.display.HTML object>"
      ]
     },
     "execution_count": 20,
     "metadata": {},
     "output_type": "execute_result"
    }
   ],
   "source": [
    "HTML(\"<b> Original Text </b>\")\n",
    "HTML(orig_html)"
   ]
  },
  {
   "cell_type": "code",
   "execution_count": 21,
   "metadata": {},
   "outputs": [
    {
     "data": {
      "text/html": [
       "look at christianity there are many competing groups all convinced that they are the only true christians sometimes they even fight and kill each other how is an atheist supposed to decide who's a real christian and who isn't when even the major christian churches like the catholic church and the church of england can't decide amongst themselves in the end most atheists take a pragmatic view and decide that anyone who calls himself a christian <b style='color:red'>terrapin</b> uses christian belief or dogma to <b style='color:red'>roeber</b> his actions should be considered a christian maybe some of those christians are just christian teaching for their own ends but surely if the bible can be so readily used to support un christian acts it can't be much of a moral code if the bible is the word of god why couldn't he have made it less easy to and how do you know that your beliefs aren't a of what your god intended if there is no single unambiguous interpretation of the bible then why should an atheist take one interpretation over another just on your say so sorry but if someone claims that he believes in jesus and that he murdered others because jesus and the bible told him to do so we must call him a christian obviously those extreme sorts of beliefs should be questioned but <b style='color:red'>potemkin</b> nobody has ever proved that god does not exist it must be very unlikely that more basic religious beliefs shared by all faiths are nonsense that does not hold because as was pointed out at the start of this dialogue positive assertions concerning the existence of entities are inherently much harder to disprove than negative ones nobody has ever proved that unicorns don't exist but that doesn't make it unlikely that they are myths it is therefore much more valid to hold a negative assertion by default than it is to hold a positive assertion by default of course weak atheists would argue that asserting nothing is better still well if so great why are there so many theists unfortunately the popularity of <b style='color:red'>mikail</b> belief has little to do with how correct it is or whether it works consider how many people believe in and other pseudo sciences many atheists feel that it is simply a human weakness to want to believe in gods certainly in many primitive human societies <b style='color:red'>5850</b> allows the people to deal with phenomena that they do not adequately understand of course <b style='color:red'>clodii</b> more to religion than that in the world we find people believing in religious explanations of phenomena even when there are perfectly adequate natural explanations religion may have started as a means of attempting to <b style='color:red'>mekhtiyeva</b> the world but nowadays it serves other purposes as well but so many cultures have developed religions surely that must say something not really <b style='color:red'>katella</b> religions are only similar for example it's worth remembering that religions such as buddhism and taoism lack <b style='color:red'>o7yt3</b> sort of concept of god in the <b style='color:red'>pw1</b> sense of course most religions are quick to competing religions so it's rather odd to use one religion to try and justify another what about all the famous scientists and philosophers who have concluded that god exists for every scientist or philosopher who believes in a god there is one who does not besides as has already been pointed out the truth of a belief is not determined by how many people believe it also it is important to realize that atheists do not view famous scientists or philosophers in the same way that theists view their religious leaders a famous scientist is only human <b style='color:red'>6974816</b> may be an expert in some fields but when she talks about other matters her words carry no special weight many respected scientists have <b style='color:red'>undermining</b> themselves look foolish by speaking on subjects which lie outside their fields of expertise so <b style='color:red'>creatio</b> you really saying that <b style='color:red'>15000'</b> belief in religion indicates nothing not entirely it certainly indicates that the religion in question has properties which have helped it so spread so far the theory of talks of memes sets of ideas which can themselves between human minds by analogy with genes some atheists view religions as sets of particularly successful memes which spread by encouraging their hosts to convert others some memes avoid destruction by believers from questioning doctrine or <b style='color:red'>1fi5</b> using peer pressure to keep one time believers from admitting that they were mistaken some religious memes even encourage their hosts to destroy hosts controlled by other memes of course in the view there is no particular virtue associated with successful propagation of a meme religion is not a good thing because of the number of people who believe it any more than a disease is a good thing because <b style='color:red'>470</b> the number of people who have caught it even if religion is not entirely true at least it puts across important messages what are the fundamental messages of atheism there are many important ideas atheists promote the following are just a few of them don't be surprised to see ideas which are <b style='color:red'>obedient</b> present in some religions there is more to moral behaviour than following rules be especially sceptical of positive claims if you want <b style='color:red'>decelleration</b> life to have some sort of meaning <b style='color:red'>applicon</b> up to you to find it search for what is true even if it makes you uncomfortable make the most of your life as it's probably the only one you'll have it's no good relying on some external power to change you you must change yourself just because popular doesn't mean it's good if you must assume something assume something it's easy to test don't believe things just because you want them to be true and finally and most importantly all beliefs should be open to question thanks for taking the time to read this article mathew <b style='color:red'>461</b> pgp signature version 2 2 q end pgp signature for information about pgp 2 2 send mail to mantis co uk"
      ],
      "text/plain": [
       "<IPython.core.display.HTML object>"
      ]
     },
     "execution_count": 21,
     "metadata": {},
     "output_type": "execute_result"
    }
   ],
   "source": [
    "HTML(\"<b> Adversarial Text </b>\")\n",
    "HTML(adv_html)"
   ]
  },
  {
   "cell_type": "code",
   "execution_count": null,
   "metadata": {
    "collapsed": true
   },
   "outputs": [],
   "source": []
  }
 ],
 "metadata": {
  "kernelspec": {
   "display_name": "Python 3",
   "language": "python",
   "name": "python3"
  },
  "language_info": {
   "codemirror_mode": {
    "name": "ipython",
    "version": 3
   },
   "file_extension": ".py",
   "mimetype": "text/x-python",
   "name": "python",
   "nbconvert_exporter": "python",
   "pygments_lexer": "ipython3",
   "version": "3.6.1"
  }
 },
 "nbformat": 4,
 "nbformat_minor": 2
}
