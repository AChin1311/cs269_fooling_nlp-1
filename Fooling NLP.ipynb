{
 "cells": [
  {
   "cell_type": "code",
   "execution_count": 2,
   "metadata": {},
   "outputs": [],
   "source": [
    "%load_ext autoreload\n",
    "%autoreload 2\n",
    "\n",
    "import matplotlib.pyplot as plt\n",
    "%matplotlib inline\n",
    "\n",
    "from IPython.core.display import HTML"
   ]
  },
  {
   "cell_type": "code",
   "execution_count": 3,
   "metadata": {},
   "outputs": [
    {
     "name": "stderr",
     "output_type": "stream",
     "text": [
      "Using TensorFlow backend.\n"
     ]
    }
   ],
   "source": [
    "\n",
    "import numpy as np\n",
    "import os\n",
    "import data_utils\n",
    "import pickle\n",
    "import random\n",
    "from keras.models import load_model"
   ]
  },
  {
   "cell_type": "code",
   "execution_count": 4,
   "metadata": {},
   "outputs": [],
   "source": [
    "TOKENIZER_PATH = 'tokenizer.pickle'\n",
    "TEXT_DATA_DIR = '20_newsgroup/'\n",
    "MODEL_PATH = '20news_model.h5'"
   ]
  },
  {
   "cell_type": "code",
   "execution_count": 5,
   "metadata": {},
   "outputs": [],
   "source": [
    "tokenizer, inverse_tokenizer = data_utils.load_tokenizer(TOKENIZER_PATH)\n",
    "model = load_model(MODEL_PATH)\n",
    "labels =  list(sorted(os.listdir(TEXT_DATA_DIR)))"
   ]
  },
  {
   "cell_type": "code",
   "execution_count": 6,
   "metadata": {},
   "outputs": [],
   "source": [
    "sample_file, true_label = data_utils.pick_random_file(TEXT_DATA_DIR)\n",
    "file_text = data_utils.load_textfile(sample_file)\n",
    "file_features = data_utils.process_text(tokenizer, file_text)"
   ]
  },
  {
   "cell_type": "code",
   "execution_count": 7,
   "metadata": {},
   "outputs": [
    {
     "name": "stdout",
     "output_type": "stream",
     "text": [
      "TrueLabel = rec.sport.hockey\n",
      "Predicted \"rec.sport.hockey\" with 0.153542 .\n"
     ]
    }
   ],
   "source": [
    "pred_scores = model.predict(file_features)\n",
    "orig_prediction = np.argmax(pred_scores[0])\n",
    "print('TrueLabel = %s' %true_label)\n",
    "print('Predicted \"%s\" with %f .' %(labels[orig_prediction], pred_scores[0][orig_prediction]))"
   ]
  },
  {
   "cell_type": "markdown",
   "metadata": {},
   "source": [
    "## Random Attack (Non-targeted)"
   ]
  },
  {
   "cell_type": "markdown",
   "metadata": {},
   "source": [
    " Random attack will pick and replace words randomly."
   ]
  },
  {
   "cell_type": "code",
   "execution_count": 8,
   "metadata": {},
   "outputs": [],
   "source": [
    "num_words = len(tokenizer.word_index)"
   ]
  },
  {
   "cell_type": "code",
   "execution_count": 21,
   "metadata": {},
   "outputs": [
    {
     "name": "stdout",
     "output_type": "stream",
     "text": [
      "Attack successful after : 231 iterations\n",
      "Number of changed words = 119 (75.316 %)\n",
      "Original class \"rec.sport.hockey\" - New class: \"comp.windows.x\"\n"
     ]
    }
   ],
   "source": [
    "y_orig = []\n",
    "x_adv = file_features.copy()\n",
    "orig_pred = orig_prediction\n",
    "iter_idx = 0\n",
    "while True:\n",
    "    iter_idx += 1\n",
    "    # perturb another random word\n",
    "    word_idx = np.random.choice(len(x_adv[0]))\n",
    "    while x_adv[0][word_idx] == 0:\n",
    "        # don't perturb paddings\n",
    "        word_idx = np.random.choice(len(x_adv[0]))\n",
    "    # select new word\n",
    "    x_adv[0][word_idx] = np.random.choice(num_words)\n",
    "    pred_scores = model.predict(x_adv)\n",
    "    new_pred = np.argmax(pred_scores)\n",
    "    y_orig.append(pred_scores[0][orig_pred])\n",
    "    if new_pred != orig_pred:\n",
    "        # Attack done !\n",
    "        break\n",
    "print(\"Attack successful after : %d iterations\" %(iter_idx))\n",
    "num_changed = np.count_nonzero(file_features!=x_adv)\n",
    "num_features = np.count_nonzero(file_features)\n",
    "print(\"Number of changed words = %d (%0.3f %%)\"\n",
    "      %(num_changed, 100.0*float(num_changed)/num_features))\n",
    "print(\"Original class \\\"%s\\\" - New class: \\\"%s\\\"\" %(labels[orig_pred], labels[new_pred]))"
   ]
  },
  {
   "cell_type": "markdown",
   "metadata": {},
   "source": [
    "## Reconstruct Text Document"
   ]
  },
  {
   "cell_type": "code",
   "execution_count": 22,
   "metadata": {},
   "outputs": [],
   "source": [
    "orig_text = data_utils.reconstruct_text(inverse_tokenizer, file_features[0])\n",
    "adv_text = data_utils.reconstruct_text(inverse_tokenizer, x_adv[0])"
   ]
  },
  {
   "cell_type": "markdown",
   "metadata": {},
   "source": [
    "## Visualize Attack"
   ]
  },
  {
   "cell_type": "code",
   "execution_count": 23,
   "metadata": {},
   "outputs": [],
   "source": [
    "orig_html, adv_html = data_utils.render_attack(orig_text, adv_text)"
   ]
  },
  {
   "cell_type": "code",
   "execution_count": 24,
   "metadata": {},
   "outputs": [
    {
     "data": {
      "text/html": [
       "<b style='color:green'>deepak</b> <b style='color:green'>chhabra</b> <b style='color:green'>dchhabra</b> stpl ists <b style='color:green'>ca</b> <b style='color:green'>wrote</b> <b style='color:green'>speaking</b> <b style='color:green'>of</b> <b style='color:green'>great</b> <b style='color:green'>players</b> <b style='color:green'>man</b> <b style='color:green'>oh</b> <b style='color:green'>man</b> <b style='color:green'>can</b> quebec skate <b style='color:green'>i</b> <b style='color:green'>haven't</b> <b style='color:green'>seen</b> <b style='color:green'>a</b> team so <b style='color:green'>potent</b> <b style='color:green'>on</b> <b style='color:green'>the</b> <b style='color:green'>rush</b> <b style='color:green'>in</b> <b style='color:green'>a</b> <b style='color:green'>long</b> <b style='color:green'>time</b> <b style='color:green'>watching</b> them <b style='color:green'>break</b> out <b style='color:green'>of</b> <b style='color:green'>their</b> <b style='color:green'>zone</b> especially <b style='color:green'>sundin</b> <b style='color:green'>is</b> <b style='color:green'>a</b> <b style='color:green'>treat</b> <b style='color:green'>to</b> watch <b style='color:green'>they</b> remind <b style='color:green'>me</b> <b style='color:green'>of</b> the <b style='color:green'>red</b> army dchhabra <b style='color:green'>stpl</b> <b style='color:green'>ists</b> ca <b style='color:green'>pissed</b> off <b style='color:green'>habs</b> <b style='color:green'>fan</b> <b style='color:green'>yeah</b> the <b style='color:green'>nords</b> <b style='color:green'>look</b> <b style='color:green'>like</b> <b style='color:green'>they're</b> <b style='color:green'>going</b> <b style='color:green'>to</b> be <b style='color:green'>good</b> <b style='color:green'>but</b> excuse <b style='color:green'>the</b> bias <b style='color:green'>have</b> <b style='color:green'>you</b> ever <b style='color:green'>watched</b> the <b style='color:green'>pens</b> <b style='color:green'>on</b> a <b style='color:green'>rush</b> <b style='color:green'>don't</b> <b style='color:green'>answer</b> <b style='color:green'>everyone</b> <b style='color:green'>has</b> <b style='color:green'>seen</b> <b style='color:green'>this</b> <b style='color:green'>footage</b> <b style='color:green'>near</b> <b style='color:green'>the</b> end <b style='color:green'>of</b> <b style='color:green'>the</b> <b style='color:green'>season</b> <b style='color:green'>when</b> the <b style='color:green'>pens</b> <b style='color:green'>played</b> <b style='color:green'>the</b> <b style='color:green'>nords</b> <b style='color:green'>it</b> <b style='color:green'>was</b> <b style='color:green'>like</b> <b style='color:green'>watching</b> a <b style='color:green'>younger</b> <b style='color:green'>double</b> <b style='color:green'>of</b> <b style='color:green'>the</b> <b style='color:green'>pens</b> <b style='color:green'>the</b> nords <b style='color:green'>looked</b> <b style='color:green'>good</b> right <b style='color:green'>up</b> to <b style='color:green'>the</b> <b style='color:green'>point</b> <b style='color:green'>when</b> <b style='color:green'>they</b> <b style='color:green'>lost</b> <b style='color:green'>ravi</b> shah <b style='color:green'>shah</b> <b style='color:green'>pitt</b> <b style='color:green'>edu</b> <b style='color:green'>la</b> mu'sica ideas <b style='color:green'>portara'</b> <b style='color:green'>approx</b> <b style='color:green'>translation</b> <b style='color:green'>music</b> <b style='color:green'>will</b> bring <b style='color:green'>ideas</b> y <b style='color:green'>siempre</b> <b style='color:green'>continuara'</b> <b style='color:green'>and</b> <b style='color:green'>will</b> <b style='color:green'>continue</b> forever <b style='color:green'>sonido</b> electro'nico electronic sound <b style='color:green'>decibel</b> <b style='color:green'>sinte'tico</b> <b style='color:green'>musique</b> <b style='color:green'>non</b> stop <b style='color:green'>synthetic</b> <b style='color:green'>decibel</b> <b style='color:green'>kraftwerk</b>"
      ],
      "text/plain": [
       "<IPython.core.display.HTML object>"
      ]
     },
     "execution_count": 24,
     "metadata": {},
     "output_type": "execute_result"
    }
   ],
   "source": [
    "HTML(\"<b> Original Text </b>\")\n",
    "HTML(orig_html)"
   ]
  },
  {
   "cell_type": "code",
   "execution_count": 25,
   "metadata": {},
   "outputs": [
    {
     "data": {
      "text/html": [
       "<b style='color:red'>kbi</b> <b style='color:red'>kadin</b> <b style='color:red'>x9upmt</b> stpl ists <b style='color:red'>whips</b> <b style='color:red'>0369</b> <b style='color:red'>reflecting</b> <b style='color:red'>borrowed</b> <b style='color:red'>yg1'oo34'b</b> <b style='color:red'>r1u1</b> <b style='color:red'>0747</b> <b style='color:red'>e4j3</b> <b style='color:red'>doofe</b> <b style='color:red'>1qknuq</b> quebec skate <b style='color:red'>n2603</b> <b style='color:red'>tulsa</b> <b style='color:red'>ceasing</b> <b style='color:red'>20865</b> team so <b style='color:red'>wybxf</b> <b style='color:red'>542b</b> <b style='color:red'>tc86j9</b> <b style='color:red'>x0ilb</b> <b style='color:red'>50l</b> <b style='color:red'>shlrc</b> <b style='color:red'>yawning</b> <b style='color:red'>601</b> <b style='color:red'>ctxs</b> them <b style='color:red'>javy</b> out <b style='color:red'>ordusu</b> <b style='color:red'>c5wa2g</b> <b style='color:red'>harping</b> especially <b style='color:red'>gregof</b> <b style='color:red'>uwvax</b> <b style='color:red'>2cydk</b> <b style='color:red'>icogsci1</b> <b style='color:red'>labourers</b> watch <b style='color:red'>irreconcilable</b> remind <b style='color:red'>etujx</b> <b style='color:red'>oqa1</b> the <b style='color:red'>1z2</b> army dchhabra <b style='color:red'>k08ch</b> <b style='color:red'>showrgb</b> ca <b style='color:red'>9bsd</b> off <b style='color:red'>physics</b> <b style='color:red'>s1l</b> <b style='color:red'>scarolina</b> the <b style='color:red'>tpi</b> <b style='color:red'>ttc</b> <b style='color:red'>taces</b> <b style='color:red'>93may4220241</b> <b style='color:red'>negvpyr</b> <b style='color:red'>cup9i</b> be <b style='color:red'>rj34b8vbf</b> <b style='color:red'>vishnu</b> excuse <b style='color:red'>kenne</b> bias <b style='color:red'>usmail</b> <b style='color:red'>nsqpq</b> ever <b style='color:red'>6603243</b> the <b style='color:red'>reel</b> <b style='color:red'>c51l52</b> a <b style='color:red'>bjjn5</b> <b style='color:red'>wcstand</b> <b style='color:red'>roderick</b> <b style='color:red'>bullying</b> <b style='color:red'>hagen</b> <b style='color:red'>boy6</b> <b style='color:red'>060010</b> <b style='color:red'>082650finaid5</b> <b style='color:red'>nui0</b> <b style='color:red'>4268</b> end <b style='color:red'>m3mb</b> <b style='color:red'>totten</b> <b style='color:red'>chiu</b> <b style='color:red'>disagreement</b> the <b style='color:red'>360iw</b> <b style='color:red'>jeroen</b> <b style='color:red'>tablished</b> <b style='color:red'>5wwwtl7z</b> <b style='color:red'>s4'd</b> <b style='color:red'>cxtgca</b> <b style='color:red'>01110011</b> <b style='color:red'>underclass</b> a <b style='color:red'>instabilities</b> <b style='color:red'>tacitus</b> <b style='color:red'>'write</b> <b style='color:red'>shifts</b> <b style='color:red'>q45k145k7</b> <b style='color:red'>6g2gn</b> nords <b style='color:red'>geophysics</b> <b style='color:red'>tuesdays</b> right <b style='color:red'>transgressed</b> to <b style='color:red'>typified</b> <b style='color:red'>zeh</b> <b style='color:red'>else</b> <b style='color:red'>sergeant</b> <b style='color:red'>fal</b> <b style='color:red'>ih</b> shah <b style='color:red'>'d6eid9''qx</b> <b style='color:red'>nj7e</b> <b style='color:red'>t3r6147113p</b> <b style='color:red'>xm3dy95d</b> mu'sica ideas <b style='color:red'>150740</b> <b style='color:red'>its'</b> <b style='color:red'>sutherlands</b> <b style='color:red'>techniques</b> <b style='color:red'>m5df</b> bring <b style='color:red'>'zero</b> y <b style='color:red'>queasy</b> <b style='color:red'>cafall</b> <b style='color:red'>screwup</b> <b style='color:red'>arrivals</b> <b style='color:red'>fen</b> forever <b style='color:red'>undressing</b> electro'nico electronic sound <b style='color:red'>wbst207v</b> <b style='color:red'>ejected</b> <b style='color:red'>xconsole</b> <b style='color:red'>wouldst</b> stop <b style='color:red'>horrendously</b> <b style='color:red'>pdressne</b> <b style='color:red'>xtapp</b>"
      ],
      "text/plain": [
       "<IPython.core.display.HTML object>"
      ]
     },
     "execution_count": 25,
     "metadata": {},
     "output_type": "execute_result"
    }
   ],
   "source": [
    "HTML(\"<b> Adversarial Text </b>\")\n",
    "HTML(adv_html)"
   ]
  },
  {
   "cell_type": "markdown",
   "metadata": {},
   "source": [
    "## Greedy Attack"
   ]
  },
  {
   "cell_type": "markdown",
   "metadata": {},
   "source": [
    "Greedy Method // choose random word and change it to the words with high probability in goal class"
   ]
  },
  {
   "cell_type": "code",
   "execution_count": 26,
   "metadata": {},
   "outputs": [
    {
     "name": "stdout",
     "output_type": "stream",
     "text": [
      "target class: rec.motorcycles\n",
      "Attack change to predicted class to another class after : 17 iterations\n",
      "Number of changed words = 17 (10.759 %)\n",
      "Original class \"rec.sport.hockey\" - New class: \"rec.sport.baseball\"\n",
      "Attack change to predicted class to TARGET class after : 143 iterations\n",
      "Number of changed words = 143 (90.506 %)\n",
      "Original class \"rec.sport.hockey\" - New class: \"rec.motorcycles\"\n"
     ]
    }
   ],
   "source": [
    "y_orig = []\n",
    "x_adv = file_features.copy()\n",
    "orig_pred = orig_prediction\n",
    "iter_idx = 0\n",
    "\n",
    "label_dic = {}\n",
    "label_ind = 0\n",
    "for name in sorted(os.listdir(TEXT_DATA_DIR)):\n",
    "    label_dic[name] = label_ind\n",
    "    label_ind = label_ind + 1\n",
    "\n",
    "dic = pickle.load(open('probability_dic.p','rb'))\n",
    "class_original = label_dic[true_label]\n",
    "\n",
    "\n",
    "#randomly select another class as goal\n",
    "class_goal = random.randint(0, 19)\n",
    "while class_goal == class_original:\n",
    "    class_goal = random.randint(0, 19)\n",
    "#select next class as goal\n",
    "#class_goal = (class_original+1)%20\n",
    "print(\"target class: %s\" %(labels[class_goal]))\n",
    "prob_original = sorted(dic, key=lambda k: dic[k][class_original], reverse=True)\n",
    "to_perturbed = []\n",
    "for i in range(len(prob_original)):\n",
    "    if(prob_original[i] in tokenizer.word_index):\n",
    "        to_perturbed = to_perturbed + [tokenizer.word_index[prob_original[i]]]\n",
    "prob_goal = sorted(dic, key=lambda k: dic[k][class_goal], reverse=True)\n",
    "\n",
    "priority_perturb = 0\n",
    "idx_target = 0\n",
    "flag_change = False\n",
    "while True:\n",
    "    iter_idx += 1\n",
    "    # sequentially choose word with higest p(original class|word) in the original text\n",
    "    # and sequentially change it to word with highest p(goal class|word)\n",
    "    idx_find = 0\n",
    "    find = False\n",
    "    while find==False:\n",
    "        idx_find = 0\n",
    "        while idx_find < len(x_adv[0]) and x_adv[0][idx_find]!= to_perturbed[priority_perturb]:\n",
    "            idx_find = idx_find + 1\n",
    "        if idx_find == len(x_adv[0]):\n",
    "            priority_perturb = priority_perturb + 1\n",
    "        else:\n",
    "            find = True\n",
    "            word_idx = idx_find\n",
    "    while prob_goal[idx_target] not in tokenizer.word_index:\n",
    "        idx_target = idx_target + 1\n",
    "    x_adv[0][word_idx] = tokenizer.word_index[prob_goal[idx_target]]\n",
    "    idx_target = idx_target + 1\n",
    "    pred_scores = model.predict(x_adv)\n",
    "    new_pred = np.argmax(pred_scores)\n",
    "    y_orig.append(pred_scores[0][orig_pred])\n",
    "    if new_pred != orig_pred and flag_change == False:\n",
    "        iter_temp = iter_idx\n",
    "        x_adv_temp = x_adv.copy()\n",
    "        num_changed_temp = np.count_nonzero(file_features!=x_adv_temp)\n",
    "        pred_temp = new_pred\n",
    "        flag_change = True\n",
    "    if new_pred == class_goal:\n",
    "        break\n",
    "print(\"Attack change to predicted class to another class after : %d iterations\" %(iter_temp))\n",
    "num_features = np.count_nonzero(file_features)\n",
    "print(\"Number of changed words = %d (%0.3f %%)\"\n",
    "      %(num_changed_temp, 100.0*float(num_changed_temp)/num_features))\n",
    "print(\"Original class \\\"%s\\\" - New class: \\\"%s\\\"\" %(labels[orig_pred], labels[pred_temp]))\n",
    "print(\"Attack change to predicted class to TARGET class after : %d iterations\" %(iter_idx))\n",
    "num_changed = np.count_nonzero(file_features!=x_adv)\n",
    "print(\"Number of changed words = %d (%0.3f %%)\"\n",
    "      %(num_changed, 100.0*float(num_changed)/num_features))\n",
    "print(\"Original class \\\"%s\\\" - New class: \\\"%s\\\"\" %(labels[orig_pred], labels[new_pred]))"
   ]
  },
  {
   "cell_type": "markdown",
   "metadata": {},
   "source": [
    "In general, to cause the model to change the prediction, the greedy attack takes less iterations (because it chooses the word that contribute higher to the labelling of original text to perturb) than random attack.  However, when the prediction first changed, its prediction is usually not the target class (most of the times it's same as the prediction of the random attack after its first change), and it'll take more iterations for the model to predict it as the target class."
   ]
  },
  {
   "cell_type": "markdown",
   "metadata": {},
   "source": [
    "## Reconstruct Text Document"
   ]
  },
  {
   "cell_type": "code",
   "execution_count": 27,
   "metadata": {},
   "outputs": [],
   "source": [
    "orig_text = data_utils.reconstruct_text(inverse_tokenizer, file_features[0])\n",
    "adv_text_first_change = data_utils.reconstruct_text(inverse_tokenizer, x_adv_temp[0])"
   ]
  },
  {
   "cell_type": "markdown",
   "metadata": {},
   "source": [
    "## Visualize Attack"
   ]
  },
  {
   "cell_type": "code",
   "execution_count": 28,
   "metadata": {},
   "outputs": [],
   "source": [
    "orig_html, adv_1stchange_html = data_utils.render_attack(orig_text, adv_text_first_change)"
   ]
  },
  {
   "cell_type": "code",
   "execution_count": 29,
   "metadata": {},
   "outputs": [
    {
     "data": {
      "text/html": [
       "<b style='color:green'>deepak</b> <b style='color:green'>chhabra</b> dchhabra stpl <b style='color:green'>ists</b> ca wrote speaking of great players man oh man can <b style='color:green'>quebec</b> <b style='color:green'>skate</b> i haven't seen a team so potent on the rush in a long time watching them break out of their zone especially <b style='color:green'>sundin</b> is a treat to watch they remind me of the red army dchhabra stpl <b style='color:green'>ists</b> ca pissed off <b style='color:green'>habs</b> fan yeah the <b style='color:green'>nords</b> look like they're going to be good but excuse the bias have you ever watched the <b style='color:green'>pens</b> on a rush don't answer everyone has seen this footage near the end of the season when the <b style='color:green'>pens</b> played the <b style='color:green'>nords</b> it was like watching a younger double of the <b style='color:green'>pens</b> the <b style='color:green'>nords</b> looked good right up to the point when they lost ravi shah shah pitt edu la mu'sica ideas portara' approx translation music will bring ideas y <b style='color:green'>siempre</b> continuara' and will continue forever <b style='color:green'>sonido</b> electro'nico electronic sound decibel sinte'tico <b style='color:green'>musique</b> non stop synthetic decibel kraftwerk"
      ],
      "text/plain": [
       "<IPython.core.display.HTML object>"
      ]
     },
     "execution_count": 29,
     "metadata": {},
     "output_type": "execute_result"
    }
   ],
   "source": [
    "HTML(\"<b> Original Text </b>\")\n",
    "HTML(orig_html)"
   ]
  },
  {
   "cell_type": "code",
   "execution_count": 30,
   "metadata": {},
   "outputs": [
    {
     "data": {
      "text/html": [
       "<b style='color:red'>11000</b> <b style='color:red'>lifeguards</b> dchhabra stpl <b style='color:red'>overcharge</b> ca wrote speaking of great players man oh man can <b style='color:red'>1000cc</b> <b style='color:red'>stamos</b> i haven't seen a team so potent on the rush in a long time watching them break out of their zone especially <b style='color:red'>breezed</b> is a treat to watch they remind me of the red army dchhabra stpl <b style='color:red'>posers</b> ca pissed off <b style='color:red'>comstar</b> fan yeah the <b style='color:red'>scorcher</b> look like they're going to be good but excuse the bias have you ever watched the <b style='color:red'>stef</b> on a rush don't answer everyone has seen this footage near the end of the season when the <b style='color:red'>disassembly</b> played the <b style='color:red'>idolizing</b> it was like watching a younger double of the <b style='color:red'>sidestepped</b> the <b style='color:red'>gasohol</b> looked good right up to the point when they lost ravi shah shah pitt edu la mu'sica ideas portara' approx translation music will bring ideas y <b style='color:red'>solberg</b> continuara' and will continue forever <b style='color:red'>pinging</b> electro'nico electronic sound decibel sinte'tico <b style='color:red'>saddlebag</b> non stop synthetic decibel kraftwerk"
      ],
      "text/plain": [
       "<IPython.core.display.HTML object>"
      ]
     },
     "execution_count": 30,
     "metadata": {},
     "output_type": "execute_result"
    }
   ],
   "source": [
    "HTML(\"<b> Adversarial Text (change to another class, not necessarily the target class) </b>\")\n",
    "HTML(adv_1stchange_html)"
   ]
  },
  {
   "cell_type": "code",
   "execution_count": 31,
   "metadata": {},
   "outputs": [],
   "source": [
    "adv_text = data_utils.reconstruct_text(inverse_tokenizer, x_adv[0])\n",
    "orig_html, adv_html = data_utils.render_attack(orig_text, adv_text)"
   ]
  },
  {
   "cell_type": "code",
   "execution_count": 32,
   "metadata": {},
   "outputs": [
    {
     "data": {
      "text/html": [
       "<b style='color:red'>11000</b> <b style='color:red'>lifeguards</b> dchhabra stpl <b style='color:red'>overcharge</b> <b style='color:red'>40km</b> <b style='color:red'>proficiently</b> <b style='color:red'>cagiva</b> <b style='color:red'>maintainability</b> <b style='color:red'>littlehampton</b> <b style='color:red'>counteracting</b> <b style='color:red'>windbreaker</b> <b style='color:red'>muchas</b> <b style='color:red'>halon</b> <b style='color:red'>kippers</b> <b style='color:red'>1000cc</b> <b style='color:red'>stamos</b> <b style='color:red'>squeak</b> haven't <b style='color:red'>britt</b> <b style='color:red'>swansea</b> <b style='color:red'>humphreys</b> <b style='color:red'>superbikes</b> <b style='color:red'>accoring</b> <b style='color:red'>deterrents</b> <b style='color:red'>fatboy</b> <b style='color:red'>picoseconds</b> <b style='color:red'>laferriere</b> <b style='color:red'>swagger</b> <b style='color:red'>negley</b> <b style='color:red'>wert</b> <b style='color:red'>superbike</b> <b style='color:red'>orating</b> <b style='color:red'>cb750</b> <b style='color:red'>polito</b> <b style='color:red'>mitten</b> <b style='color:red'>puttering</b> <b style='color:red'>trikes</b> <b style='color:red'>ribbing</b> <b style='color:red'>breezed</b> <b style='color:red'>restless</b> <b style='color:red'>standardisation</b> <b style='color:red'>coasters</b> <b style='color:red'>uncontested</b> <b style='color:red'>economize</b> <b style='color:red'>0450</b> <b style='color:red'>kawi</b> <b style='color:red'>sudafed</b> <b style='color:red'>rambunctious</b> <b style='color:red'>leavitt</b> <b style='color:red'>gtv</b> army dchhabra stpl <b style='color:red'>posers</b> <b style='color:red'>malgudi</b> <b style='color:red'>inverness</b> <b style='color:red'>fops</b> <b style='color:red'>comstar</b> <b style='color:red'>niagara</b> <b style='color:red'>topsham</b> <b style='color:red'>privateers</b> <b style='color:red'>scorcher</b> <b style='color:red'>vlj</b> <b style='color:red'>underpass</b> they're <b style='color:red'>gudgeon</b> <b style='color:red'>cheech</b> <b style='color:red'>no2</b> <b style='color:red'>majordomo</b> <b style='color:red'>driveshaft</b> <b style='color:red'>rowdy</b> <b style='color:red'>handcuffs</b> <b style='color:red'>nak</b> <b style='color:red'>puch</b> <b style='color:red'>nolo</b> <b style='color:red'>xrs</b> <b style='color:red'>edmondson</b> <b style='color:red'>legless</b> <b style='color:red'>stef</b> <b style='color:red'>gud</b> <b style='color:red'>neak</b> <b style='color:red'>polysyllabic</b> don't <b style='color:red'>cbd</b> <b style='color:red'>endell</b> <b style='color:red'>overcharges</b> <b style='color:red'>heatproof</b> <b style='color:red'>usurped</b> <b style='color:red'>snips</b> <b style='color:red'>scrumpy</b> <b style='color:red'>softail</b> <b style='color:red'>wiseguy</b> <b style='color:red'>hindmost</b> <b style='color:red'>dremel</b> <b style='color:red'>scraper</b> <b style='color:red'>pigmentation</b> <b style='color:red'>ducky</b> <b style='color:red'>disassembly</b> <b style='color:red'>sensuously</b> <b style='color:red'>hanlan</b> <b style='color:red'>idolizing</b> <b style='color:red'>demento</b> <b style='color:red'>barnacles</b> <b style='color:red'>unease</b> <b style='color:red'>ruffled</b> <b style='color:red'>matty</b> <b style='color:red'>bucklin</b> <b style='color:red'>campground</b> <b style='color:red'>parched</b> <b style='color:red'>welle</b> <b style='color:red'>sidestepped</b> <b style='color:red'>katana</b> <b style='color:red'>gasohol</b> <b style='color:red'>headlamp</b> <b style='color:red'>couse</b> <b style='color:red'>siphon</b> <b style='color:red'>adventurism</b> <b style='color:red'>backmarker</b> <b style='color:red'>beemer</b> <b style='color:red'>camarillo</b> <b style='color:red'>nma</b> <b style='color:red'>drunker</b> <b style='color:red'>sadr</b> <b style='color:red'>carful</b> <b style='color:red'>stirrup</b> <b style='color:red'>eaps</b> <b style='color:red'>rucksack</b> <b style='color:red'>saum</b> <b style='color:red'>melanie</b> mu'sica <b style='color:red'>motorcycling</b> portara' <b style='color:red'>taxiing</b> <b style='color:red'>stalked</b> <b style='color:red'>oshi</b> <b style='color:red'>bollocks</b> <b style='color:red'>fruited</b> ideas <b style='color:red'>hartzler</b> <b style='color:red'>solberg</b> continuara' <b style='color:red'>gyroscopes</b> <b style='color:red'>nickerson</b> <b style='color:red'>wilhem</b> <b style='color:red'>riderless</b> <b style='color:red'>pinging</b> electro'nico electronic <b style='color:red'>sprocket</b> <b style='color:red'>brazed</b> sinte'tico <b style='color:red'>saddlebag</b> <b style='color:red'>twisties</b> <b style='color:red'>2195</b> <b style='color:red'>propylene</b> <b style='color:red'>wunder</b> <b style='color:red'>smead</b>"
      ],
      "text/plain": [
       "<IPython.core.display.HTML object>"
      ]
     },
     "execution_count": 32,
     "metadata": {},
     "output_type": "execute_result"
    }
   ],
   "source": [
    "HTML(\"<b> Adversarial Text (target class) </b>\")\n",
    "HTML(adv_html)"
   ]
  },
  {
   "cell_type": "code",
   "execution_count": null,
   "metadata": {},
   "outputs": [],
   "source": []
  },
  {
   "cell_type": "code",
   "execution_count": null,
   "metadata": {},
   "outputs": [],
   "source": []
  }
 ],
 "metadata": {
  "kernelspec": {
   "display_name": "Python 3",
   "language": "python",
   "name": "python3"
  },
  "language_info": {
   "codemirror_mode": {
    "name": "ipython",
    "version": 3
   },
   "file_extension": ".py",
   "mimetype": "text/x-python",
   "name": "python",
   "nbconvert_exporter": "python",
   "pygments_lexer": "ipython3",
   "version": "3.5.2"
  }
 },
 "nbformat": 4,
 "nbformat_minor": 2
}
