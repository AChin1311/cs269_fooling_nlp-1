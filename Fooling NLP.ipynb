{
 "cells": [
  {
   "cell_type": "code",
   "execution_count": 23,
   "metadata": {},
   "outputs": [
    {
     "name": "stdout",
     "output_type": "stream",
     "text": [
      "The autoreload extension is already loaded. To reload it, use:\n",
      "  %reload_ext autoreload\n"
     ]
    }
   ],
   "source": [
    "%load_ext autoreload\n",
    "%autoreload 2\n",
    "\n",
    "import matplotlib.pyplot as plt\n",
    "%matplotlib inline\n",
    "\n",
    "from IPython.core.display import HTML"
   ]
  },
  {
   "cell_type": "code",
   "execution_count": 32,
   "metadata": {},
   "outputs": [],
   "source": [
    "\n",
    "import numpy as np\n",
    "import os\n",
    "import data_utils\n",
    "from keras.models import load_model"
   ]
  },
  {
   "cell_type": "code",
   "execution_count": 33,
   "metadata": {
    "collapsed": true
   },
   "outputs": [],
   "source": [
    "TOKENIZER_PATH = 'tokenizer.pickle'\n",
    "TEXT_DATA_DIR = '20_newsgroup/'\n",
    "MODEL_PATH = '20news_model.h5'"
   ]
  },
  {
   "cell_type": "code",
   "execution_count": 34,
   "metadata": {
    "collapsed": true
   },
   "outputs": [],
   "source": [
    "tokenizer, inverse_tokenizer = data_utils.load_tokenizer(TOKENIZER_PATH)\n",
    "model = load_model(MODEL_PATH)\n",
    "labels =  list(sorted(os.listdir(TEXT_DATA_DIR)))"
   ]
  },
  {
   "cell_type": "code",
   "execution_count": 35,
   "metadata": {},
   "outputs": [],
   "source": [
    "sample_file, true_label = data_utils.pick_random_file(TEXT_DATA_DIR)\n",
    "file_text = data_utils.load_textfile(sample_file)\n",
    "file_features = data_utils.process_text(tokenizer, file_text)"
   ]
  },
  {
   "cell_type": "code",
   "execution_count": 39,
   "metadata": {},
   "outputs": [
    {
     "name": "stdout",
     "output_type": "stream",
     "text": [
      "TrueLabel = misc.forsale\n",
      "Predicted \"misc.forsale\" with 0.120084 .\n"
     ]
    }
   ],
   "source": [
    "pred_scores = model.predict(file_features)\n",
    "orig_prediction = np.argmax(pred_scores[0])\n",
    "print('TrueLabel = %s' %true_label)\n",
    "print('Predicted \"%s\" with %f .' %(labels[orig_prediction], pred_scores[0][orig_prediction]))"
   ]
  },
  {
   "cell_type": "markdown",
   "metadata": {},
   "source": [
    "## Random Attack (Non-targeted)"
   ]
  },
  {
   "cell_type": "markdown",
   "metadata": {},
   "source": [
    " Random attack will pick and replace words randomly."
   ]
  },
  {
   "cell_type": "code",
   "execution_count": 40,
   "metadata": {
    "collapsed": true
   },
   "outputs": [],
   "source": [
    "num_words = len(tokenizer.word_index)"
   ]
  },
  {
   "cell_type": "code",
   "execution_count": 43,
   "metadata": {},
   "outputs": [
    {
     "name": "stdout",
     "output_type": "stream",
     "text": [
      "Attack successful after : 29 iterations\n",
      "Number of changed words = 23 (31.081)\n",
      "Original class \"misc.forsale\" - New class: \"rec.autos\"\n"
     ]
    }
   ],
   "source": [
    "y_orig = []\n",
    "x_adv = file_features.copy()\n",
    "orig_pred = orig_prediction\n",
    "iter_idx = 0\n",
    "while True:\n",
    "    iter_idx += 1\n",
    "    # perturb another random word\n",
    "    word_idx = np.random.choice(len(x_adv[0]))\n",
    "    while x_adv[0][word_idx] == 0:\n",
    "        # don't perturb paddings\n",
    "        word_idx = np.random.choice(len(x_adv[0]))\n",
    "    # select new word\n",
    "    x_adv[0][word_idx] = np.random.choice(num_words)\n",
    "    pred_scores = model.predict(x_adv)\n",
    "    new_pred = np.argmax(pred_scores)\n",
    "    y_orig.append(pred_scores[0][orig_pred])\n",
    "    if new_pred != orig_pred:\n",
    "        # Attack done !\n",
    "        break\n",
    "print(\"Attack successful after : %d iterations\" %(iter_idx))\n",
    "num_changed = np.count_nonzero(file_features!=x_adv)\n",
    "num_features = np.count_nonzero(file_features)\n",
    "print(\"Number of changed words = %d (%0.3f)\"\n",
    "      %(num_changed, 100.0*float(num_changed)/num_features))\n",
    "print(\"Original class \\\"%s\\\" - New class: \\\"%s\\\"\" %(labels[orig_pred], labels[new_pred]))"
   ]
  },
  {
   "cell_type": "markdown",
   "metadata": {},
   "source": [
    "## Reconstruct Text Document"
   ]
  },
  {
   "cell_type": "code",
   "execution_count": null,
   "metadata": {
    "collapsed": true
   },
   "outputs": [],
   "source": []
  },
  {
   "cell_type": "code",
   "execution_count": 44,
   "metadata": {},
   "outputs": [
    {
     "ename": "KeyError",
     "evalue": "0",
     "output_type": "error",
     "traceback": [
      "\u001b[0;31m---------------------------------------------------------------------------\u001b[0m",
      "\u001b[0;31mKeyError\u001b[0m                                  Traceback (most recent call last)",
      "\u001b[0;32m<ipython-input-44-c987651138d5>\u001b[0m in \u001b[0;36m<module>\u001b[0;34m()\u001b[0m\n\u001b[0;32m----> 1\u001b[0;31m \u001b[0morig_text\u001b[0m \u001b[0;34m=\u001b[0m \u001b[0mdata_utils\u001b[0m\u001b[0;34m.\u001b[0m\u001b[0mreconstruct_text\u001b[0m\u001b[0;34m(\u001b[0m\u001b[0minverse_tokenizer\u001b[0m\u001b[0;34m,\u001b[0m \u001b[0mfile_features\u001b[0m\u001b[0;34m[\u001b[0m\u001b[0;36m0\u001b[0m\u001b[0;34m]\u001b[0m\u001b[0;34m)\u001b[0m\u001b[0;34m\u001b[0m\u001b[0m\n\u001b[0m\u001b[1;32m      2\u001b[0m \u001b[0madv_text\u001b[0m \u001b[0;34m=\u001b[0m \u001b[0mdata_utils\u001b[0m\u001b[0;34m.\u001b[0m\u001b[0mreconstruct_text\u001b[0m\u001b[0;34m(\u001b[0m\u001b[0minverse_tokenizer\u001b[0m\u001b[0;34m,\u001b[0m \u001b[0mx_adv\u001b[0m\u001b[0;34m[\u001b[0m\u001b[0;36m0\u001b[0m\u001b[0;34m]\u001b[0m\u001b[0;34m)\u001b[0m\u001b[0;34m\u001b[0m\u001b[0m\n",
      "\u001b[0;32m/home/malzantot/Nesl/cs269_fooling_nlp/data_utils.py\u001b[0m in \u001b[0;36mreconstruct_text\u001b[0;34m(inverse_tokenizer, x)\u001b[0m\n\u001b[1;32m     46\u001b[0m \u001b[0;32mdef\u001b[0m \u001b[0mreconstruct_text\u001b[0m\u001b[0;34m(\u001b[0m\u001b[0minverse_tokenizer\u001b[0m\u001b[0;34m,\u001b[0m \u001b[0mx\u001b[0m\u001b[0;34m)\u001b[0m\u001b[0;34m:\u001b[0m\u001b[0;34m\u001b[0m\u001b[0m\n\u001b[1;32m     47\u001b[0m     \u001b[0;34m\"\"\" Returns the reconstructed text \"\"\"\u001b[0m\u001b[0;34m\u001b[0m\u001b[0m\n\u001b[0;32m---> 48\u001b[0;31m     \u001b[0mx_words\u001b[0m \u001b[0;34m=\u001b[0m \u001b[0;34m[\u001b[0m\u001b[0minverse_tokenizer\u001b[0m\u001b[0;34m[\u001b[0m\u001b[0mw\u001b[0m\u001b[0;34m]\u001b[0m \u001b[0;32mfor\u001b[0m \u001b[0mw\u001b[0m \u001b[0;32min\u001b[0m \u001b[0mx\u001b[0m\u001b[0;34m]\u001b[0m\u001b[0;34m\u001b[0m\u001b[0m\n\u001b[0m\u001b[1;32m     49\u001b[0m     \u001b[0;32mreturn\u001b[0m \u001b[0;34m' '\u001b[0m\u001b[0;34m.\u001b[0m\u001b[0mjoin\u001b[0m\u001b[0;34m(\u001b[0m\u001b[0mx_words\u001b[0m\u001b[0;34m)\u001b[0m\u001b[0;34m\u001b[0m\u001b[0m\n\u001b[1;32m     50\u001b[0m \u001b[0;34m\u001b[0m\u001b[0m\n",
      "\u001b[0;32m/home/malzantot/Nesl/cs269_fooling_nlp/data_utils.py\u001b[0m in \u001b[0;36m<listcomp>\u001b[0;34m(.0)\u001b[0m\n\u001b[1;32m     46\u001b[0m \u001b[0;32mdef\u001b[0m \u001b[0mreconstruct_text\u001b[0m\u001b[0;34m(\u001b[0m\u001b[0minverse_tokenizer\u001b[0m\u001b[0;34m,\u001b[0m \u001b[0mx\u001b[0m\u001b[0;34m)\u001b[0m\u001b[0;34m:\u001b[0m\u001b[0;34m\u001b[0m\u001b[0m\n\u001b[1;32m     47\u001b[0m     \u001b[0;34m\"\"\" Returns the reconstructed text \"\"\"\u001b[0m\u001b[0;34m\u001b[0m\u001b[0m\n\u001b[0;32m---> 48\u001b[0;31m     \u001b[0mx_words\u001b[0m \u001b[0;34m=\u001b[0m \u001b[0;34m[\u001b[0m\u001b[0minverse_tokenizer\u001b[0m\u001b[0;34m[\u001b[0m\u001b[0mw\u001b[0m\u001b[0;34m]\u001b[0m \u001b[0;32mfor\u001b[0m \u001b[0mw\u001b[0m \u001b[0;32min\u001b[0m \u001b[0mx\u001b[0m\u001b[0;34m]\u001b[0m\u001b[0;34m\u001b[0m\u001b[0m\n\u001b[0m\u001b[1;32m     49\u001b[0m     \u001b[0;32mreturn\u001b[0m \u001b[0;34m' '\u001b[0m\u001b[0;34m.\u001b[0m\u001b[0mjoin\u001b[0m\u001b[0;34m(\u001b[0m\u001b[0mx_words\u001b[0m\u001b[0;34m)\u001b[0m\u001b[0;34m\u001b[0m\u001b[0m\n\u001b[1;32m     50\u001b[0m \u001b[0;34m\u001b[0m\u001b[0m\n",
      "\u001b[0;31mKeyError\u001b[0m: 0"
     ]
    }
   ],
   "source": [
    "orig_text = data_utils.reconstruct_text(inverse_tokenizer, file_features[0])\n",
    "adv_text = data_utils.reconstruct_text(inverse_tokenizer, x_adv[0])"
   ]
  },
  {
   "cell_type": "markdown",
   "metadata": {},
   "source": [
    "## Visualize Attack"
   ]
  },
  {
   "cell_type": "code",
   "execution_count": 10,
   "metadata": {
    "collapsed": true
   },
   "outputs": [],
   "source": [
    "orig_html, adv_html = data_utils.render_attack(orig_text, adv_text)"
   ]
  },
  {
   "cell_type": "code",
   "execution_count": 11,
   "metadata": {},
   "outputs": [
    {
     "data": {
      "text/html": [
       "look at christianity there are many competing groups all convinced that they are the only true christians sometimes they even fight and kill each other how is an atheist supposed to decide who's a real christian and who isn't when even the major christian churches like <b style='color:green'>the</b> catholic church and the church of england can't decide <b style='color:green'>amongst</b> themselves in the end most atheists take a pragmatic view <b style='color:green'>and</b> decide that anyone who calls himself a christian and uses christian belief or dogma to justify his actions should be considered a christian maybe some of those christians are just christian teaching for their own ends but surely if the <b style='color:green'>bible</b> can be so readily used to support un christian <b style='color:green'>acts</b> it can't be much <b style='color:green'>of</b> a moral code if the bible is the word of god why couldn't he have made it less easy to and how <b style='color:green'>do</b> you know that your beliefs aren't a of what your god intended if there is no single unambiguous interpretation of the bible then why should an atheist take one interpretation over another just on your say so sorry but if someone claims that he believes in jesus and that he murdered others because jesus and the bible told him to do so we must call him a christian obviously those extreme sorts of beliefs should be questioned but since <b style='color:green'>nobody</b> has ever proved that god does not exist it must be very unlikely that more basic religious beliefs shared by all faiths are nonsense that does not hold because as was pointed out at the start of this dialogue positive assertions concerning the existence of entities are inherently much harder to disprove than negative ones nobody has ever proved that unicorns <b style='color:green'>don't</b> exist but that doesn't make it unlikely that they are myths it is therefore much more valid to hold a negative assertion by default than it is to hold a positive assertion by default of course weak atheists would argue that asserting nothing is better still well if so great why are there so many theists unfortunately the popularity of a belief has little to do with how correct it is or whether it works consider how many people believe in and other pseudo sciences many atheists feel that it is simply a <b style='color:green'>human</b> weakness to want to believe <b style='color:green'>in</b> gods certainly in many primitive human societies religion allows the people <b style='color:green'>to</b> deal with phenomena that they do not adequately understand of course there's more to religion than that in the world we find people <b style='color:green'>believing</b> in religious explanations of phenomena even when there are perfectly adequate natural explanations religion may have started as a means <b style='color:green'>of</b> attempting to explain the world but nowadays it serves <b style='color:green'>other</b> <b style='color:green'>purposes</b> as well but so many cultures have developed religions surely that must say something not really most religions are only similar for example it's worth remembering that religions such as buddhism and taoism lack any sort of concept of god in the christian sense of course most religions are quick <b style='color:green'>to</b> competing religions so <b style='color:green'>it's</b> rather odd to use one religion to try and justify another what about all the famous scientists and <b style='color:green'>philosophers</b> who have concluded that god exists for every scientist or philosopher who believes in a god there is one who does not besides as has already been pointed out the truth of a belief is not determined by how many people believe it also it is important to realize that atheists do <b style='color:green'>not</b> view famous scientists or philosophers in the same way that theists view their religious leaders a famous scientist is only human she may be an expert <b style='color:green'>in</b> some fields but when she talks about other matters her words carry no special weight many respected scientists <b style='color:green'>have</b> made themselves look foolish by speaking on subjects which lie outside their fields of expertise so are you really saying that widespread belief in religion indicates nothing <b style='color:green'>not</b> entirely it certainly indicates that the religion in question has properties which have helped it so spread <b style='color:green'>so</b> far the theory <b style='color:green'>of</b> talks of memes sets of ideas which can themselves between human minds by analogy with genes some atheists view religions as sets of particularly successful memes which spread by encouraging their hosts to convert others some memes avoid destruction by believers from questioning doctrine or by using peer <b style='color:green'>pressure</b> to keep one time believers from admitting that they were mistaken some religious memes even encourage their hosts to destroy hosts controlled by other memes of course in the view there is no particular virtue associated with successful propagation of a meme religion is not a <b style='color:green'>good</b> thing because <b style='color:green'>of</b> the number of people who believe it any more than a disease is a good thing because of the number of people who have caught it even if religion is not entirely true at least it puts across important messages what are the <b style='color:green'>fundamental</b> messages of atheism there are many important ideas atheists promote the following are just a few of them don't be surprised to see ideas which <b style='color:green'>are</b> also present in some religions there is more <b style='color:green'>to</b> moral behaviour than following <b style='color:green'>rules</b> be especially sceptical of positive claims if you want your life to have some sort of meaning it's up to you to <b style='color:green'>find</b> it search for what is true even if it makes you uncomfortable make the most of your life as it's probably the only one you'll have it's no good relying on some external power to change you you must change yourself <b style='color:green'>just</b> because popular doesn't mean it's good if you must assume something assume something it's easy to test don't believe things just because you want them to be true and finally and most importantly all beliefs should be open to question thanks for taking the time to read this article mathew begin pgp signature version 2 2 q end pgp signature for information about pgp 2 2 send mail to mantis co uk"
      ],
      "text/plain": [
       "<IPython.core.display.HTML object>"
      ]
     },
     "execution_count": 11,
     "metadata": {},
     "output_type": "execute_result"
    }
   ],
   "source": [
    "HTML(\"<b> Original Text </b>\")\n",
    "HTML(orig_html)"
   ]
  },
  {
   "cell_type": "code",
   "execution_count": 12,
   "metadata": {},
   "outputs": [
    {
     "data": {
      "text/html": [
       "look at christianity there are many competing groups all convinced that they are the only true christians sometimes they even fight and kill each other how is an atheist supposed to decide who's a real christian and who isn't when even the major christian churches like <b style='color:red'>leigh</b> catholic church and the church of england can't decide <b style='color:red'>t</b> themselves in the end most atheists take a pragmatic view <b style='color:red'>buddihsm</b> decide that anyone who calls himself a christian and uses christian belief or dogma to justify his actions should be considered a christian maybe some of those christians are just christian teaching for their own ends but surely if the <b style='color:red'>dang</b> can be so readily used to support un christian <b style='color:red'>ffb</b> it can't be much <b style='color:red'>yingbin</b> a moral code if the bible is the word of god why couldn't he have made it less easy to and how <b style='color:red'>student's</b> you know that your beliefs aren't a of what your god intended if there is no single unambiguous interpretation of the bible then why should an atheist take one interpretation over another just on your say so sorry but if someone claims that he believes in jesus and that he murdered others because jesus and the bible told him to do so we must call him a christian obviously those extreme sorts of beliefs should be questioned but since <b style='color:red'>passible</b> has ever proved that god does not exist it must be very unlikely that more basic religious beliefs shared by all faiths are nonsense that does not hold because as was pointed out at the start of this dialogue positive assertions concerning the existence of entities are inherently much harder to disprove than negative ones nobody has ever proved that unicorns <b style='color:red'>'dies</b> exist but that doesn't make it unlikely that they are myths it is therefore much more valid to hold a negative assertion by default than it is to hold a positive assertion by default of course weak atheists would argue that asserting nothing is better still well if so great why are there so many theists unfortunately the popularity of a belief has little to do with how correct it is or whether it works consider how many people believe in and other pseudo sciences many atheists feel that it is simply a <b style='color:red'>nx10</b> weakness to want to believe <b style='color:red'>reposting</b> gods certainly in many primitive human societies religion allows the people <b style='color:red'>03u</b> deal with phenomena that they do not adequately understand of course there's more to religion than that in the world we find people <b style='color:red'>56m</b> in religious explanations of phenomena even when there are perfectly adequate natural explanations religion may have started as a means <b style='color:red'>llb</b> attempting to explain the world but nowadays it serves <b style='color:red'>launcher</b> <b style='color:red'>3q4</b> as well but so many cultures have developed religions surely that must say something not really most religions are only similar for example it's worth remembering that religions such as buddhism and taoism lack any sort of concept of god in the christian sense of course most religions are quick <b style='color:red'>inward</b> competing religions so <b style='color:red'>tranfer</b> rather odd to use one religion to try and justify another what about all the famous scientists and <b style='color:red'>petrograd</b> who have concluded that god exists for every scientist or philosopher who believes in a god there is one who does not besides as has already been pointed out the truth of a belief is not determined by how many people believe it also it is important to realize that atheists do <b style='color:red'>azzim</b> view famous scientists or philosophers in the same way that theists view their religious leaders a famous scientist is only human she may be an expert <b style='color:red'>an2r70v</b> some fields but when she talks about other matters her words carry no special weight many respected scientists <b style='color:red'>1de076v5</b> made themselves look foolish by speaking on subjects which lie outside their fields of expertise so are you really saying that widespread belief in religion indicates nothing <b style='color:red'>0005111312</b> entirely it certainly indicates that the religion in question has properties which have helped it so spread <b style='color:red'>dip</b> far the theory <b style='color:red'>tm9v</b> talks of memes sets of ideas which can themselves between human minds by analogy with genes some atheists view religions as sets of particularly successful memes which spread by encouraging their hosts to convert others some memes avoid destruction by believers from questioning doctrine or by using peer <b style='color:red'>3hm</b> to keep one time believers from admitting that they were mistaken some religious memes even encourage their hosts to destroy hosts controlled by other memes of course in the view there is no particular virtue associated with successful propagation of a meme religion is not a <b style='color:red'>fraud</b> thing because <b style='color:red'>d2'5</b> the number of people who believe it any more than a disease is a good thing because of the number of people who have caught it even if religion is not entirely true at least it puts across important messages what are the <b style='color:red'>d2dk</b> messages of atheism there are many important ideas atheists promote the following are just a few of them don't be surprised to see ideas which <b style='color:red'>285w0'</b> also present in some religions there is more <b style='color:red'>meaddata</b> moral behaviour than following <b style='color:red'>0205</b> be especially sceptical of positive claims if you want your life to have some sort of meaning it's up to you to <b style='color:red'>sensitivity</b> it search for what is true even if it makes you uncomfortable make the most of your life as it's probably the only one you'll have it's no good relying on some external power to change you you must change yourself <b style='color:red'>3399</b> because popular doesn't mean it's good if you must assume something assume something it's easy to test don't believe things just because you want them to be true and finally and most importantly all beliefs should be open to question thanks for taking the time to read this article mathew begin pgp signature version 2 2 q end pgp signature for information about pgp 2 2 send mail to mantis co uk"
      ],
      "text/plain": [
       "<IPython.core.display.HTML object>"
      ]
     },
     "execution_count": 12,
     "metadata": {},
     "output_type": "execute_result"
    }
   ],
   "source": [
    "HTML(\"<b> Adversarial Text </b>\")\n",
    "HTML(adv_html)"
   ]
  },
  {
   "cell_type": "code",
   "execution_count": null,
   "metadata": {
    "collapsed": true
   },
   "outputs": [],
   "source": []
  }
 ],
 "metadata": {
  "kernelspec": {
   "display_name": "Python 3",
   "language": "python",
   "name": "python3"
  },
  "language_info": {
   "codemirror_mode": {
    "name": "ipython",
    "version": 3
   },
   "file_extension": ".py",
   "mimetype": "text/x-python",
   "name": "python",
   "nbconvert_exporter": "python",
   "pygments_lexer": "ipython3",
   "version": "3.6.1"
  }
 },
 "nbformat": 4,
 "nbformat_minor": 2
}
