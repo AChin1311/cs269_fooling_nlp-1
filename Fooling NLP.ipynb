{
 "cells": [
  {
   "cell_type": "code",
   "execution_count": 1,
   "metadata": {},
   "outputs": [],
   "source": [
    "%load_ext autoreload\n",
    "%autoreload 2\n",
    "\n",
    "import matplotlib.pyplot as plt\n",
    "%matplotlib inline\n",
    "\n",
    "from IPython.core.display import HTML"
   ]
  },
  {
   "cell_type": "code",
   "execution_count": 2,
   "metadata": {},
   "outputs": [
    {
     "name": "stderr",
     "output_type": "stream",
     "text": [
      "Using TensorFlow backend.\n"
     ]
    }
   ],
   "source": [
    "\n",
    "import numpy as np\n",
    "import os\n",
    "import data_utils\n",
    "import pickle\n",
    "import random\n",
    "from keras.models import load_model"
   ]
  },
  {
   "cell_type": "code",
   "execution_count": 3,
   "metadata": {},
   "outputs": [],
   "source": [
    "TOKENIZER_PATH = 'tokenizer.pickle'\n",
    "TEXT_DATA_DIR = '20_newsgroup/'\n",
    "MODEL_PATH = '20news_model.h5'"
   ]
  },
  {
   "cell_type": "code",
   "execution_count": 4,
   "metadata": {},
   "outputs": [],
   "source": [
    "tokenizer, inverse_tokenizer = data_utils.load_tokenizer(TOKENIZER_PATH)\n",
    "model = load_model(MODEL_PATH)\n",
    "labels =  list(sorted(os.listdir(TEXT_DATA_DIR)))"
   ]
  },
  {
   "cell_type": "code",
   "execution_count": 184,
   "metadata": {},
   "outputs": [],
   "source": [
    "sample_file, true_label = data_utils.pick_random_file(TEXT_DATA_DIR)\n",
    "sample_file = '20_newsgroup/talk.politics.guns/54516'\n",
    "true_label = 'talk.politics.guns'\n",
    "file_text = data_utils.load_textfile(sample_file)\n",
    "file_features = data_utils.process_text(tokenizer, file_text)"
   ]
  },
  {
   "cell_type": "code",
   "execution_count": 185,
   "metadata": {},
   "outputs": [
    {
     "name": "stdout",
     "output_type": "stream",
     "text": [
      "20_newsgroup/talk.politics.guns/54516\n",
      "TrueLabel = talk.politics.guns\n",
      "Predicted \"talk.politics.guns\" with 0.165192 .\n"
     ]
    }
   ],
   "source": [
    "pred_scores = model.predict(file_features)\n",
    "orig_prediction = np.argmax(pred_scores[0])\n",
    "print(sample_file)\n",
    "print('TrueLabel = %s' %true_label)\n",
    "print('Predicted \"%s\" with %f .' %(labels[orig_prediction], pred_scores[0][orig_prediction]))"
   ]
  },
  {
   "cell_type": "markdown",
   "metadata": {},
   "source": [
    "## Random Attack (Non-targeted)"
   ]
  },
  {
   "cell_type": "markdown",
   "metadata": {},
   "source": [
    " Random attack will pick and replace words randomly."
   ]
  },
  {
   "cell_type": "code",
   "execution_count": 186,
   "metadata": {},
   "outputs": [],
   "source": [
    "num_words = len(tokenizer.word_index)"
   ]
  },
  {
   "cell_type": "code",
   "execution_count": 187,
   "metadata": {},
   "outputs": [
    {
     "name": "stdout",
     "output_type": "stream",
     "text": [
      "Attack successful after : 267 iterations\n",
      "Number of changed words = 144 (71.287 %)\n",
      "Original class \"talk.politics.guns\" - New class: \"comp.graphics\"\n"
     ]
    }
   ],
   "source": [
    "y_orig = []\n",
    "x_adv = file_features.copy()\n",
    "orig_pred = orig_prediction\n",
    "iter_idx = -1\n",
    "orig_history_rd = []\n",
    "while True:\n",
    "    iter_idx += 1\n",
    "    # perturb another random word\n",
    "    word_idx = np.random.choice(len(x_adv[0]))\n",
    "    while x_adv[0][word_idx] == 0:\n",
    "        # don't perturb paddings\n",
    "        word_idx = np.random.choice(len(x_adv[0]))\n",
    "    # select new word\n",
    "    x_adv[0][word_idx] = np.random.choice(num_words)\n",
    "    pred_scores = model.predict(x_adv)\n",
    "    orig_history_rd.append(pred_scores[0][orig_pred])\n",
    "    new_pred = np.argmax(pred_scores)\n",
    "    y_orig.append(pred_scores[0][orig_pred])\n",
    "    if new_pred != orig_pred:\n",
    "        # Attack done !\n",
    "        break\n",
    "print(\"Attack successful after : %d iterations\" %(iter_idx))\n",
    "num_changed = np.count_nonzero(file_features!=x_adv)\n",
    "num_features = np.count_nonzero(file_features)\n",
    "print(\"Number of changed words = %d (%0.3f %%)\"\n",
    "      %(num_changed, 100.0*float(num_changed)/num_features))\n",
    "print(\"Original class \\\"%s\\\" - New class: \\\"%s\\\"\" %(labels[orig_pred], labels[new_pred]))"
   ]
  },
  {
   "cell_type": "markdown",
   "metadata": {},
   "source": [
    "## Reconstruct Text Document"
   ]
  },
  {
   "cell_type": "code",
   "execution_count": 188,
   "metadata": {},
   "outputs": [],
   "source": [
    "orig_text = data_utils.reconstruct_text(inverse_tokenizer, file_features[0])\n",
    "adv_text = data_utils.reconstruct_text(inverse_tokenizer, x_adv[0])"
   ]
  },
  {
   "cell_type": "markdown",
   "metadata": {},
   "source": [
    "## Visualize Attack"
   ]
  },
  {
   "cell_type": "code",
   "execution_count": 189,
   "metadata": {},
   "outputs": [],
   "source": [
    "orig_html, adv_html = data_utils.render_attack(orig_text, adv_text)"
   ]
  },
  {
   "cell_type": "code",
   "execution_count": 190,
   "metadata": {},
   "outputs": [
    {
     "data": {
      "text/html": [
       "<b style='color:green'>dfo</b> <b style='color:green'>vttoulu</b> <b style='color:green'>tko</b> <b style='color:green'>vtt</b> fi <b style='color:green'>foxvog</b> <b style='color:green'>douglas</b> <b style='color:green'>writes</b> <b style='color:green'>you</b> <b style='color:green'>believe</b> <b style='color:green'>that</b> <b style='color:green'>individuals</b> should have <b style='color:green'>the</b> <b style='color:green'>right</b> <b style='color:green'>to</b> <b style='color:green'>own</b> weapons <b style='color:green'>of</b> <b style='color:green'>mass</b> <b style='color:green'>destruction</b> i find <b style='color:green'>it</b> <b style='color:green'>hard</b> <b style='color:green'>to</b> believe <b style='color:green'>that</b> you <b style='color:green'>would</b> <b style='color:green'>support</b> a neighbor's <b style='color:green'>right</b> <b style='color:green'>to</b> <b style='color:green'>keep</b> <b style='color:green'>nuclear</b> weapons <b style='color:green'>biological</b> <b style='color:green'>weapons</b> <b style='color:green'>and</b> nerve <b style='color:green'>gas</b> on his her <b style='color:green'>property</b> <b style='color:green'>that</b> <b style='color:green'>really</b> depends <b style='color:green'>upon</b> <b style='color:green'>where</b> you <b style='color:green'>draw</b> <b style='color:green'>the</b> <b style='color:green'>line</b> <b style='color:green'>while</b> <b style='color:green'>defining</b> these <b style='color:green'>weapons</b> and <b style='color:green'>also</b> on <b style='color:green'>if</b> <b style='color:green'>you</b> <b style='color:green'>intend</b> <b style='color:green'>the</b> law <b style='color:green'>to</b> <b style='color:green'>be</b> <b style='color:green'>reflective</b> <b style='color:green'>of</b> modern <b style='color:green'>practice</b> <b style='color:green'>five</b> months <b style='color:green'>or</b> five <b style='color:green'>centuries</b> <b style='color:green'>down</b> the <b style='color:green'>road</b> <b style='color:green'>i'll</b> give you a <b style='color:green'>little</b> hint <b style='color:green'>see</b> <b style='color:green'>that</b> manure <b style='color:green'>pile</b> <b style='color:green'>in</b> <b style='color:green'>the</b> <b style='color:green'>farmer's</b> <b style='color:green'>field</b> <b style='color:green'>down</b> <b style='color:green'>the</b> <b style='color:green'>road</b> in <b style='color:green'>the</b> <b style='color:green'>usa</b> <b style='color:green'>that</b> <b style='color:green'>is</b> <b style='color:green'>a</b> <b style='color:green'>weapon</b> <b style='color:green'>of</b> <b style='color:green'>mass</b> <b style='color:green'>destruction</b> <b style='color:green'>biological</b> <b style='color:green'>in</b> nature <b style='color:green'>because</b> <b style='color:green'>if</b> <b style='color:green'>it</b> <b style='color:green'>gets</b> <b style='color:green'>washed</b> <b style='color:green'>into</b> an open well <b style='color:green'>it</b> <b style='color:green'>will</b> <b style='color:green'>contaminate</b> <b style='color:green'>the</b> <b style='color:green'>aquifers</b> <b style='color:green'>that</b> <b style='color:green'>supply</b> <b style='color:green'>thousands</b> <b style='color:green'>of</b> cities <b style='color:green'>with</b> <b style='color:green'>drinking</b> <b style='color:green'>water</b> <b style='color:green'>so</b> <b style='color:green'>where</b> do <b style='color:green'>you</b> draw <b style='color:green'>the</b> line <b style='color:green'>in</b> <b style='color:green'>the</b> <b style='color:green'>usa</b> <b style='color:green'>the</b> <b style='color:green'>epa</b> <b style='color:green'>has</b> <b style='color:green'>ruled</b> <b style='color:green'>that</b> <b style='color:green'>a</b> <b style='color:green'>pile</b> of scrap <b style='color:green'>iron</b> <b style='color:green'>is</b> <b style='color:green'>illegal</b> <b style='color:green'>care</b> to draw a <b style='color:green'>thinner</b> <b style='color:green'>line</b> this <b style='color:green'>time</b> <b style='color:green'>dan</b> sorenson <b style='color:green'>dod</b> 1066 z1dan exnet <b style='color:green'>iastate</b> <b style='color:green'>edu</b> viking <b style='color:green'>iastate</b> <b style='color:green'>edu</b> isu <b style='color:green'>only</b> <b style='color:green'>censors</b> <b style='color:green'>what</b> i <b style='color:green'>read</b> not <b style='color:green'>what</b> <b style='color:green'>i</b> <b style='color:green'>say</b> don't <b style='color:green'>blame</b> <b style='color:green'>them</b> <b style='color:green'>usenet</b> <b style='color:green'>post</b> <b style='color:green'>to</b> exotic <b style='color:green'>distant</b> machines <b style='color:green'>meet</b> exciting unusual <b style='color:green'>people</b> <b style='color:green'>and</b> <b style='color:green'>flame</b> <b style='color:green'>them</b>"
      ],
      "text/plain": [
       "<IPython.core.display.HTML object>"
      ]
     },
     "execution_count": 190,
     "metadata": {},
     "output_type": "execute_result"
    }
   ],
   "source": [
    "HTML(\"<b> Original Text </b>\")\n",
    "HTML(orig_html)"
   ]
  },
  {
   "cell_type": "code",
   "execution_count": 191,
   "metadata": {},
   "outputs": [
    {
     "data": {
      "text/html": [
       "<b style='color:red'>disqualifies</b> <b style='color:red'>155555</b> <b style='color:red'>tosses</b> <b style='color:red'>consolidate</b> fi <b style='color:red'>gmmh</b> <b style='color:red'>ebcin</b> <b style='color:red'>skucera</b> <b style='color:red'>jwh</b> <b style='color:red'>vmkg</b> <b style='color:red'>p3</b> <b style='color:red'>16139</b> should have <b style='color:red'>senders</b> <b style='color:red'>bpk</b> <b style='color:red'>doomer</b> <b style='color:red'>ciba</b> weapons <b style='color:red'>fzh7qnk</b> <b style='color:red'>0azojt</b> <b style='color:red'>terrorism</b> i find <b style='color:red'>saudis</b> <b style='color:red'>auld</b> <b style='color:red'>71034</b> believe <b style='color:red'>x2f'</b> you <b style='color:red'>reviving</b> <b style='color:red'>yachts</b> a neighbor's <b style='color:red'>etfnkjz7</b> <b style='color:red'>peel</b> <b style='color:red'>692000</b> <b style='color:red'>vju</b> weapons <b style='color:red'>offspring</b> <b style='color:red'>r12</b> <b style='color:red'>unio</b> nerve <b style='color:red'>alec</b> on his her <b style='color:red'>og4</b> <b style='color:red'>reinserted</b> <b style='color:red'>1wig0</b> depends <b style='color:red'>tools'</b> <b style='color:red'>9rz</b> you <b style='color:red'>voelkerding</b> <b style='color:red'>425</b> <b style='color:red'>shippert</b> <b style='color:red'>1096</b> <b style='color:red'>clinto</b> these <b style='color:red'>wherin</b> and <b style='color:red'>fvx4</b> on <b style='color:red'>countdowns</b> <b style='color:red'>gallivan</b> <b style='color:red'>idbsu</b> <b style='color:red'>turkey's</b> law <b style='color:red'>carburetor</b> <b style='color:red'>rightfielder</b> <b style='color:red'>checkdisk</b> <b style='color:red'>qc0</b> modern <b style='color:red'>fido's</b> <b style='color:red'>'gv</b> months <b style='color:red'>fekete</b> five <b style='color:red'>vault</b> <b style='color:red'>7'2tcv9f9f9</b> the <b style='color:red'>transmittable</b> <b style='color:red'>bons</b> give you a <b style='color:red'>280493114107</b> hint <b style='color:red'>exec</b> <b style='color:red'>cropland</b> manure <b style='color:red'>ecconomy</b> <b style='color:red'>bounding</b> <b style='color:red'>3384</b> <b style='color:red'>accuse</b> <b style='color:red'>wce</b> <b style='color:red'>j98rk</b> <b style='color:red'>c5jxru</b> <b style='color:red'>o1ht</b> in <b style='color:red'>m77vr</b> <b style='color:red'>ucd</b> <b style='color:red'>nested</b> <b style='color:red'>aiqq</b> <b style='color:red'>australia</b> <b style='color:red'>pities</b> <b style='color:red'>piepryzk</b> <b style='color:red'>seperationfrom</b> <b style='color:red'>engagements</b> <b style='color:red'>7fame'x</b> <b style='color:red'>c5csux</b> nature <b style='color:red'>maliable</b> <b style='color:red'>redress</b> <b style='color:red'>jester</b> <b style='color:red'>lqrs'qrs'orqi</b> <b style='color:red'>sankar</b> <b style='color:red'>6997'</b> an open well <b style='color:red'>add</b> <b style='color:red'>sect</b> <b style='color:red'>modulating</b> <b style='color:red'>tfp's</b> <b style='color:red'>bonehead</b> <b style='color:red'>nyachaflar</b> <b style='color:red'>dino</b> <b style='color:red'>sphughes</b> <b style='color:red'>93093</b> cities <b style='color:red'>3v97bk</b> <b style='color:red'>0ipw</b> <b style='color:red'>'mn8</b> <b style='color:red'>7300</b> <b style='color:red'>5030e</b> do <b style='color:red'>userglub</b> draw <b style='color:red'>200629</b> line <b style='color:red'>fppf</b> <b style='color:red'>'pp7</b> <b style='color:red'>harten</b> <b style='color:red'>prhu</b> <b style='color:red'>grusec</b> <b style='color:red'>xfile</b> <b style='color:red'>rdl</b> <b style='color:red'>mirv</b> <b style='color:red'>wcvb</b> <b style='color:red'>directly</b> of scrap <b style='color:red'>frigging</b> <b style='color:red'>succumb</b> <b style='color:red'>preparedness</b> <b style='color:red'>abpsoft</b> to draw a <b style='color:red'>jokes</b> <b style='color:red'>arapeen</b> this <b style='color:red'>koresh</b> <b style='color:red'>sarikamis</b> sorenson <b style='color:red'>zes</b> 1066 z1dan exnet <b style='color:red'>fkd</b> <b style='color:red'>ala8rl</b> viking <b style='color:red'>0dl</b> <b style='color:red'>12305</b> isu <b style='color:red'>lcdzlyqvu</b> <b style='color:red'>k'm</b> <b style='color:red'>sppb</b> i <b style='color:red'>compur</b> not <b style='color:red'>135642</b> <b style='color:red'>appplication</b> <b style='color:red'>anulments</b> don't <b style='color:red'>atoning</b> <b style='color:red'>bindir</b> <b style='color:red'>b645zaw</b> <b style='color:red'>bentonville</b> <b style='color:red'>img</b> exotic <b style='color:red'>l74pf21</b> machines <b style='color:red'>aronson</b> exciting unusual <b style='color:red'>3s</b> <b style='color:red'>trigonometric</b> <b style='color:red'>cy0</b> <b style='color:red'>stateless</b>"
      ],
      "text/plain": [
       "<IPython.core.display.HTML object>"
      ]
     },
     "execution_count": 191,
     "metadata": {},
     "output_type": "execute_result"
    }
   ],
   "source": [
    "HTML(\"<b> Adversarial Text </b>\")\n",
    "HTML(adv_html)"
   ]
  },
  {
   "cell_type": "markdown",
   "metadata": {},
   "source": [
    "## Greedy Attack"
   ]
  },
  {
   "cell_type": "markdown",
   "metadata": {},
   "source": [
    "Greedy Method // choose random word and change it to the words with high probability in goal class"
   ]
  },
  {
   "cell_type": "code",
   "execution_count": 192,
   "metadata": {
    "scrolled": true
   },
   "outputs": [
    {
     "name": "stdout",
     "output_type": "stream",
     "text": [
      "target class: comp.sys.mac.hardware\n"
     ]
    },
    {
     "ename": "KeyboardInterrupt",
     "evalue": "",
     "output_type": "error",
     "traceback": [
      "\u001b[1;31m---------------------------------------------------------------------------\u001b[0m",
      "\u001b[1;31mKeyboardInterrupt\u001b[0m                         Traceback (most recent call last)",
      "\u001b[1;32m<ipython-input-192-7107d9486d33>\u001b[0m in \u001b[0;36m<module>\u001b[1;34m()\u001b[0m\n\u001b[0;32m     51\u001b[0m     \u001b[1;32mif\u001b[0m \u001b[0midx_target\u001b[0m \u001b[1;33m>\u001b[0m \u001b[1;36m200\u001b[0m\u001b[1;33m:\u001b[0m\u001b[1;33m\u001b[0m\u001b[0m\n\u001b[0;32m     52\u001b[0m         \u001b[0midx_target\u001b[0m \u001b[1;33m=\u001b[0m \u001b[1;36m0\u001b[0m\u001b[1;33m\u001b[0m\u001b[0m\n\u001b[1;32m---> 53\u001b[1;33m     \u001b[0mpred_scores\u001b[0m \u001b[1;33m=\u001b[0m \u001b[0mmodel\u001b[0m\u001b[1;33m.\u001b[0m\u001b[0mpredict\u001b[0m\u001b[1;33m(\u001b[0m\u001b[0mx_adv\u001b[0m\u001b[1;33m)\u001b[0m\u001b[1;33m\u001b[0m\u001b[0m\n\u001b[0m\u001b[0;32m     54\u001b[0m     \u001b[0morig_history_gd\u001b[0m\u001b[1;33m.\u001b[0m\u001b[0mappend\u001b[0m\u001b[1;33m(\u001b[0m\u001b[0mpred_scores\u001b[0m\u001b[1;33m[\u001b[0m\u001b[1;36m0\u001b[0m\u001b[1;33m]\u001b[0m\u001b[1;33m[\u001b[0m\u001b[0morig_pred\u001b[0m\u001b[1;33m]\u001b[0m\u001b[1;33m)\u001b[0m\u001b[1;33m\u001b[0m\u001b[0m\n\u001b[0;32m     55\u001b[0m     \u001b[0mtarget_history_gd\u001b[0m\u001b[1;33m.\u001b[0m\u001b[0mappend\u001b[0m\u001b[1;33m(\u001b[0m\u001b[0mpred_scores\u001b[0m\u001b[1;33m[\u001b[0m\u001b[1;36m0\u001b[0m\u001b[1;33m]\u001b[0m\u001b[1;33m[\u001b[0m\u001b[0mclass_goal\u001b[0m\u001b[1;33m]\u001b[0m\u001b[1;33m)\u001b[0m\u001b[1;33m\u001b[0m\u001b[0m\n",
      "\u001b[1;32mc:\\users\\user\\appdata\\local\\programs\\python\\python35\\lib\\site-packages\\keras\\engine\\training.py\u001b[0m in \u001b[0;36mpredict\u001b[1;34m(self, x, batch_size, verbose, steps)\u001b[0m\n\u001b[0;32m   1788\u001b[0m         \u001b[0mf\u001b[0m \u001b[1;33m=\u001b[0m \u001b[0mself\u001b[0m\u001b[1;33m.\u001b[0m\u001b[0mpredict_function\u001b[0m\u001b[1;33m\u001b[0m\u001b[0m\n\u001b[0;32m   1789\u001b[0m         return self._predict_loop(f, ins, batch_size=batch_size,\n\u001b[1;32m-> 1790\u001b[1;33m                                   verbose=verbose, steps=steps)\n\u001b[0m\u001b[0;32m   1791\u001b[0m \u001b[1;33m\u001b[0m\u001b[0m\n\u001b[0;32m   1792\u001b[0m     def train_on_batch(self, x, y,\n",
      "\u001b[1;32mc:\\users\\user\\appdata\\local\\programs\\python\\python35\\lib\\site-packages\\keras\\engine\\training.py\u001b[0m in \u001b[0;36m_predict_loop\u001b[1;34m(self, f, ins, batch_size, verbose, steps)\u001b[0m\n\u001b[0;32m   1297\u001b[0m                 \u001b[1;32melse\u001b[0m\u001b[1;33m:\u001b[0m\u001b[1;33m\u001b[0m\u001b[0m\n\u001b[0;32m   1298\u001b[0m                     \u001b[0mins_batch\u001b[0m \u001b[1;33m=\u001b[0m \u001b[0m_slice_arrays\u001b[0m\u001b[1;33m(\u001b[0m\u001b[0mins\u001b[0m\u001b[1;33m,\u001b[0m \u001b[0mbatch_ids\u001b[0m\u001b[1;33m)\u001b[0m\u001b[1;33m\u001b[0m\u001b[0m\n\u001b[1;32m-> 1299\u001b[1;33m                 \u001b[0mbatch_outs\u001b[0m \u001b[1;33m=\u001b[0m \u001b[0mf\u001b[0m\u001b[1;33m(\u001b[0m\u001b[0mins_batch\u001b[0m\u001b[1;33m)\u001b[0m\u001b[1;33m\u001b[0m\u001b[0m\n\u001b[0m\u001b[0;32m   1300\u001b[0m                 \u001b[1;32mif\u001b[0m \u001b[1;32mnot\u001b[0m \u001b[0misinstance\u001b[0m\u001b[1;33m(\u001b[0m\u001b[0mbatch_outs\u001b[0m\u001b[1;33m,\u001b[0m \u001b[0mlist\u001b[0m\u001b[1;33m)\u001b[0m\u001b[1;33m:\u001b[0m\u001b[1;33m\u001b[0m\u001b[0m\n\u001b[0;32m   1301\u001b[0m                     \u001b[0mbatch_outs\u001b[0m \u001b[1;33m=\u001b[0m \u001b[1;33m[\u001b[0m\u001b[0mbatch_outs\u001b[0m\u001b[1;33m]\u001b[0m\u001b[1;33m\u001b[0m\u001b[0m\n",
      "\u001b[1;32mc:\\users\\user\\appdata\\local\\programs\\python\\python35\\lib\\site-packages\\keras\\backend\\tensorflow_backend.py\u001b[0m in \u001b[0;36m__call__\u001b[1;34m(self, inputs)\u001b[0m\n\u001b[0;32m   2355\u001b[0m         \u001b[0msession\u001b[0m \u001b[1;33m=\u001b[0m \u001b[0mget_session\u001b[0m\u001b[1;33m(\u001b[0m\u001b[1;33m)\u001b[0m\u001b[1;33m\u001b[0m\u001b[0m\n\u001b[0;32m   2356\u001b[0m         updated = session.run(fetches=fetches, feed_dict=feed_dict,\n\u001b[1;32m-> 2357\u001b[1;33m                               **self.session_kwargs)\n\u001b[0m\u001b[0;32m   2358\u001b[0m         \u001b[1;32mreturn\u001b[0m \u001b[0mupdated\u001b[0m\u001b[1;33m[\u001b[0m\u001b[1;33m:\u001b[0m\u001b[0mlen\u001b[0m\u001b[1;33m(\u001b[0m\u001b[0mself\u001b[0m\u001b[1;33m.\u001b[0m\u001b[0moutputs\u001b[0m\u001b[1;33m)\u001b[0m\u001b[1;33m]\u001b[0m\u001b[1;33m\u001b[0m\u001b[0m\n\u001b[0;32m   2359\u001b[0m \u001b[1;33m\u001b[0m\u001b[0m\n",
      "\u001b[1;32mc:\\users\\user\\appdata\\local\\programs\\python\\python35\\lib\\site-packages\\tensorflow\\python\\client\\session.py\u001b[0m in \u001b[0;36mrun\u001b[1;34m(self, fetches, feed_dict, options, run_metadata)\u001b[0m\n\u001b[0;32m    887\u001b[0m     \u001b[1;32mtry\u001b[0m\u001b[1;33m:\u001b[0m\u001b[1;33m\u001b[0m\u001b[0m\n\u001b[0;32m    888\u001b[0m       result = self._run(None, fetches, feed_dict, options_ptr,\n\u001b[1;32m--> 889\u001b[1;33m                          run_metadata_ptr)\n\u001b[0m\u001b[0;32m    890\u001b[0m       \u001b[1;32mif\u001b[0m \u001b[0mrun_metadata\u001b[0m\u001b[1;33m:\u001b[0m\u001b[1;33m\u001b[0m\u001b[0m\n\u001b[0;32m    891\u001b[0m         \u001b[0mproto_data\u001b[0m \u001b[1;33m=\u001b[0m \u001b[0mtf_session\u001b[0m\u001b[1;33m.\u001b[0m\u001b[0mTF_GetBuffer\u001b[0m\u001b[1;33m(\u001b[0m\u001b[0mrun_metadata_ptr\u001b[0m\u001b[1;33m)\u001b[0m\u001b[1;33m\u001b[0m\u001b[0m\n",
      "\u001b[1;32mc:\\users\\user\\appdata\\local\\programs\\python\\python35\\lib\\site-packages\\tensorflow\\python\\client\\session.py\u001b[0m in \u001b[0;36m_run\u001b[1;34m(self, handle, fetches, feed_dict, options, run_metadata)\u001b[0m\n\u001b[0;32m   1118\u001b[0m     \u001b[1;32mif\u001b[0m \u001b[0mfinal_fetches\u001b[0m \u001b[1;32mor\u001b[0m \u001b[0mfinal_targets\u001b[0m \u001b[1;32mor\u001b[0m \u001b[1;33m(\u001b[0m\u001b[0mhandle\u001b[0m \u001b[1;32mand\u001b[0m \u001b[0mfeed_dict_tensor\u001b[0m\u001b[1;33m)\u001b[0m\u001b[1;33m:\u001b[0m\u001b[1;33m\u001b[0m\u001b[0m\n\u001b[0;32m   1119\u001b[0m       results = self._do_run(handle, final_targets, final_fetches,\n\u001b[1;32m-> 1120\u001b[1;33m                              feed_dict_tensor, options, run_metadata)\n\u001b[0m\u001b[0;32m   1121\u001b[0m     \u001b[1;32melse\u001b[0m\u001b[1;33m:\u001b[0m\u001b[1;33m\u001b[0m\u001b[0m\n\u001b[0;32m   1122\u001b[0m       \u001b[0mresults\u001b[0m \u001b[1;33m=\u001b[0m \u001b[1;33m[\u001b[0m\u001b[1;33m]\u001b[0m\u001b[1;33m\u001b[0m\u001b[0m\n",
      "\u001b[1;32mc:\\users\\user\\appdata\\local\\programs\\python\\python35\\lib\\site-packages\\tensorflow\\python\\client\\session.py\u001b[0m in \u001b[0;36m_do_run\u001b[1;34m(self, handle, target_list, fetch_list, feed_dict, options, run_metadata)\u001b[0m\n\u001b[0;32m   1315\u001b[0m     \u001b[1;32mif\u001b[0m \u001b[0mhandle\u001b[0m \u001b[1;32mis\u001b[0m \u001b[1;32mNone\u001b[0m\u001b[1;33m:\u001b[0m\u001b[1;33m\u001b[0m\u001b[0m\n\u001b[0;32m   1316\u001b[0m       return self._do_call(_run_fn, self._session, feeds, fetches, targets,\n\u001b[1;32m-> 1317\u001b[1;33m                            options, run_metadata)\n\u001b[0m\u001b[0;32m   1318\u001b[0m     \u001b[1;32melse\u001b[0m\u001b[1;33m:\u001b[0m\u001b[1;33m\u001b[0m\u001b[0m\n\u001b[0;32m   1319\u001b[0m       \u001b[1;32mreturn\u001b[0m \u001b[0mself\u001b[0m\u001b[1;33m.\u001b[0m\u001b[0m_do_call\u001b[0m\u001b[1;33m(\u001b[0m\u001b[0m_prun_fn\u001b[0m\u001b[1;33m,\u001b[0m \u001b[0mself\u001b[0m\u001b[1;33m.\u001b[0m\u001b[0m_session\u001b[0m\u001b[1;33m,\u001b[0m \u001b[0mhandle\u001b[0m\u001b[1;33m,\u001b[0m \u001b[0mfeeds\u001b[0m\u001b[1;33m,\u001b[0m \u001b[0mfetches\u001b[0m\u001b[1;33m)\u001b[0m\u001b[1;33m\u001b[0m\u001b[0m\n",
      "\u001b[1;32mc:\\users\\user\\appdata\\local\\programs\\python\\python35\\lib\\site-packages\\tensorflow\\python\\client\\session.py\u001b[0m in \u001b[0;36m_do_call\u001b[1;34m(self, fn, *args)\u001b[0m\n\u001b[0;32m   1321\u001b[0m   \u001b[1;32mdef\u001b[0m \u001b[0m_do_call\u001b[0m\u001b[1;33m(\u001b[0m\u001b[0mself\u001b[0m\u001b[1;33m,\u001b[0m \u001b[0mfn\u001b[0m\u001b[1;33m,\u001b[0m \u001b[1;33m*\u001b[0m\u001b[0margs\u001b[0m\u001b[1;33m)\u001b[0m\u001b[1;33m:\u001b[0m\u001b[1;33m\u001b[0m\u001b[0m\n\u001b[0;32m   1322\u001b[0m     \u001b[1;32mtry\u001b[0m\u001b[1;33m:\u001b[0m\u001b[1;33m\u001b[0m\u001b[0m\n\u001b[1;32m-> 1323\u001b[1;33m       \u001b[1;32mreturn\u001b[0m \u001b[0mfn\u001b[0m\u001b[1;33m(\u001b[0m\u001b[1;33m*\u001b[0m\u001b[0margs\u001b[0m\u001b[1;33m)\u001b[0m\u001b[1;33m\u001b[0m\u001b[0m\n\u001b[0m\u001b[0;32m   1324\u001b[0m     \u001b[1;32mexcept\u001b[0m \u001b[0merrors\u001b[0m\u001b[1;33m.\u001b[0m\u001b[0mOpError\u001b[0m \u001b[1;32mas\u001b[0m \u001b[0me\u001b[0m\u001b[1;33m:\u001b[0m\u001b[1;33m\u001b[0m\u001b[0m\n\u001b[0;32m   1325\u001b[0m       \u001b[0mmessage\u001b[0m \u001b[1;33m=\u001b[0m \u001b[0mcompat\u001b[0m\u001b[1;33m.\u001b[0m\u001b[0mas_text\u001b[0m\u001b[1;33m(\u001b[0m\u001b[0me\u001b[0m\u001b[1;33m.\u001b[0m\u001b[0mmessage\u001b[0m\u001b[1;33m)\u001b[0m\u001b[1;33m\u001b[0m\u001b[0m\n",
      "\u001b[1;32mc:\\users\\user\\appdata\\local\\programs\\python\\python35\\lib\\site-packages\\tensorflow\\python\\client\\session.py\u001b[0m in \u001b[0;36m_run_fn\u001b[1;34m(session, feed_dict, fetch_list, target_list, options, run_metadata)\u001b[0m\n\u001b[0;32m   1300\u001b[0m           return tf_session.TF_Run(session, options,\n\u001b[0;32m   1301\u001b[0m                                    \u001b[0mfeed_dict\u001b[0m\u001b[1;33m,\u001b[0m \u001b[0mfetch_list\u001b[0m\u001b[1;33m,\u001b[0m \u001b[0mtarget_list\u001b[0m\u001b[1;33m,\u001b[0m\u001b[1;33m\u001b[0m\u001b[0m\n\u001b[1;32m-> 1302\u001b[1;33m                                    status, run_metadata)\n\u001b[0m\u001b[0;32m   1303\u001b[0m \u001b[1;33m\u001b[0m\u001b[0m\n\u001b[0;32m   1304\u001b[0m     \u001b[1;32mdef\u001b[0m \u001b[0m_prun_fn\u001b[0m\u001b[1;33m(\u001b[0m\u001b[0msession\u001b[0m\u001b[1;33m,\u001b[0m \u001b[0mhandle\u001b[0m\u001b[1;33m,\u001b[0m \u001b[0mfeed_dict\u001b[0m\u001b[1;33m,\u001b[0m \u001b[0mfetch_list\u001b[0m\u001b[1;33m)\u001b[0m\u001b[1;33m:\u001b[0m\u001b[1;33m\u001b[0m\u001b[0m\n",
      "\u001b[1;31mKeyboardInterrupt\u001b[0m: "
     ]
    }
   ],
   "source": [
    "y_orig = []\n",
    "x_adv = file_features.copy()\n",
    "orig_pred = orig_prediction\n",
    "iter_idx = -1\n",
    "orig_history_gd = []\n",
    "target_history_gd = []\n",
    "label_dic = {}\n",
    "label_ind = 0\n",
    "for name in sorted(os.listdir(TEXT_DATA_DIR)):\n",
    "    label_dic[name] = label_ind\n",
    "    label_ind = label_ind + 1\n",
    "\n",
    "dic = pickle.load(open('probability_dic.p','rb'))\n",
    "class_original = label_dic[true_label]\n",
    "\n",
    "\n",
    "#randomly select another class as goal\n",
    "class_goal = random.randint(0, 19)\n",
    "class_goal = 4\n",
    "while class_goal == class_original:\n",
    "    class_goal = random.randint(0, 19)\n",
    "#select next class as goal\n",
    "#class_goal = (class_original+1)%20\n",
    "print(\"target class: %s\" %(labels[class_goal]))\n",
    "\n",
    "prob_original = [0 if i == 0 else 0.05 if inverse_tokenizer[i] not in dic else dic[inverse_tokenizer[i]][class_original] for i in x_adv[0]]\n",
    "to_replace = sorted(range(len(prob_original)), key=lambda k: prob_original[k], reverse=True)\n",
    "prob_goal = sorted(dic, key=lambda k: dic[k][class_goal], reverse=True)\n",
    "\n",
    "idx_target = 0\n",
    "flag_change = False\n",
    "\n",
    "while True:\n",
    "    iter_idx += 1\n",
    "    # sequentially choose word with higest p(original class|word) in the original text\n",
    "    # and sequentially change it to word with highest p(goal class|word)\n",
    "    idx_find = 0\n",
    "    if iter_idx < len(x_adv[0]) and x_adv[0][to_replace[iter_idx]]!=0:\n",
    "        word_idx = to_replace[iter_idx]\n",
    "    else:\n",
    "        word_idx = np.random.choice(len(x_adv[0]))\n",
    "        while x_adv[0][word_idx] == 0:\n",
    "            # don't perturb paddings\n",
    "            word_idx = np.random.choice(len(x_adv[0]))\n",
    "    while prob_goal[idx_target] not in tokenizer.word_index:\n",
    "        idx_target = idx_target + 1\n",
    "        if(idx_target > 300):\n",
    "            idx_target = 0\n",
    "    x_adv[0][word_idx] = tokenizer.word_index[prob_goal[idx_target]]\n",
    "    idx_target = idx_target + 1\n",
    "    if idx_target > 200:\n",
    "        idx_target = 0\n",
    "    pred_scores = model.predict(x_adv)\n",
    "    orig_history_gd.append(pred_scores[0][orig_pred])\n",
    "    target_history_gd.append(pred_scores[0][class_goal])\n",
    "    new_pred = np.argmax(pred_scores)\n",
    "    y_orig.append(pred_scores[0][orig_pred])\n",
    "    if new_pred != orig_pred and flag_change == False:\n",
    "        iter_temp = iter_idx\n",
    "        x_adv_temp = x_adv.copy()\n",
    "        num_changed_temp = np.count_nonzero(file_features!=x_adv_temp)\n",
    "        pred_temp = new_pred\n",
    "        flag_change = True\n",
    "    if new_pred == class_goal:\n",
    "        break\n",
    "print(\"Attack change to predicted class to another class after : %d iterations\" %(iter_temp))\n",
    "num_features = np.count_nonzero(file_features)\n",
    "print(\"Number of changed words = %d (%0.3f %%)\"\n",
    "      %(num_changed_temp, 100.0*float(num_changed_temp)/num_features))\n",
    "print(\"Original class \\\"%s\\\" - New class: \\\"%s\\\"\" %(labels[orig_pred], labels[pred_temp]))\n",
    "print(\"Attack change to predicted class to TARGET class after : %d iterations\" %(iter_idx))\n",
    "num_changed = np.count_nonzero(file_features!=x_adv)\n",
    "print(\"Number of changed words = %d (%0.3f %%)\"\n",
    "      %(num_changed, 100.0*float(num_changed)/num_features))\n",
    "print(\"Original class \\\"%s\\\" - New class: \\\"%s\\\"\" %(labels[orig_pred], labels[new_pred]))\n",
    "plt.plot(orig_history_gd, 'g', label=labels[orig_pred]+ ' - greedy attack')\n",
    "plt.plot(target_history_gd, 'r', label=labels[class_goal] + ' greedy attack')\n",
    "plt.legend()"
   ]
  },
  {
   "cell_type": "code",
   "execution_count": 182,
   "metadata": {},
   "outputs": [
    {
     "data": {
      "text/plain": [
       "<matplotlib.legend.Legend at 0x242a24fc6d8>"
      ]
     },
     "execution_count": 182,
     "metadata": {},
     "output_type": "execute_result"
    },
    {
     "data": {
      "image/png": "[encoded data removed]",
      "text/plain": [
       "<matplotlib.figure.Figure at 0x2429df4bbe0>"
      ]
     },
     "metadata": {},
     "output_type": "display_data"
    }
   ],
   "source": [
    "plt.plot(orig_history_gd, 'g', label=labels[orig_pred]+ ' - greedy attack v1')\n",
    "plt.plot(target_history_gd, 'r', label=labels[class_goal]+ ' - greedy attack v1')\n",
    "\n",
    "with open('ohist.p', 'rb') as handle:\n",
    "        o_hist = pickle.load(handle)\n",
    "with open('thist.p', 'rb') as handle:\n",
    "        t_hist = pickle.load(handle)\n",
    "plt.plot(o_hist, 'y', label=labels[orig_pred]+ ' - greedy attack v2')\n",
    "plt.plot(t_hist, 'k', label=labels[class_goal]+ ' - greedy attack v2')\n",
    "\n",
    "plt.legend()\n"
   ]
  },
  {
   "cell_type": "code",
   "execution_count": 183,
   "metadata": {},
   "outputs": [
    {
     "data": {
      "text/plain": [
       "<matplotlib.legend.Legend at 0x2429dd2f3c8>"
      ]
     },
     "execution_count": 183,
     "metadata": {},
     "output_type": "execute_result"
    },
    {
     "data": {
      "image/png": "[encoded data removed]",
      "text/plain": [
       "<matplotlib.figure.Figure at 0x242a217f128>"
      ]
     },
     "metadata": {},
     "output_type": "display_data"
    }
   ],
   "source": [
    "plt.plot(orig_history_rd, 'b', label=labels[orig_pred]+' - random attack')\n",
    "plt.plot(orig_history_gd, 'g', label=labels[orig_pred]+ ' - greedy attack v1')\n",
    "plt.plot(o_hist, 'y', label=labels[orig_pred]+ ' - greedy attack v2')\n",
    "plt.legend()"
   ]
  },
  {
   "cell_type": "markdown",
   "metadata": {},
   "source": [
    "In general, to cause the model to change the prediction, the greedy attack takes less iterations (because it chooses the word that contribute higher to the labelling of original text to perturb) than random attack.  However, when the prediction first changed, its prediction is usually not the target class (most of the times it's same as the prediction of the random attack after its first change), and it'll take more iterations for the model to predict it as the target class."
   ]
  },
  {
   "cell_type": "markdown",
   "metadata": {},
   "source": [
    "## Reconstruct Text Document"
   ]
  },
  {
   "cell_type": "code",
   "execution_count": 85,
   "metadata": {},
   "outputs": [],
   "source": [
    "orig_text = data_utils.reconstruct_text(inverse_tokenizer, file_features[0])\n",
    "adv_text_first_change = data_utils.reconstruct_text(inverse_tokenizer, x_adv_temp[0])"
   ]
  },
  {
   "cell_type": "markdown",
   "metadata": {},
   "source": [
    "## Visualize Attack"
   ]
  },
  {
   "cell_type": "code",
   "execution_count": 86,
   "metadata": {},
   "outputs": [],
   "source": [
    "orig_html, adv_1stchange_html = data_utils.render_attack(orig_text, adv_text_first_change)"
   ]
  },
  {
   "cell_type": "code",
   "execution_count": 87,
   "metadata": {},
   "outputs": [
    {
     "data": {
      "text/html": [
       "<b style='color:green'>dfo</b> vttoulu <b style='color:green'>tko</b> <b style='color:green'>vtt</b> fi foxvog douglas writes you believe that individuals should have the right to own <b style='color:green'>weapons</b> of mass destruction i find it hard to believe that you would support a neighbor's right to keep nuclear <b style='color:green'>weapons</b> biological <b style='color:green'>weapons</b> and nerve gas on his her property that really depends upon where you draw the line while defining these <b style='color:green'>weapons</b> and also on if you intend the law to be reflective of modern practice five months or five centuries down the road i'll give you a little hint see that <b style='color:green'>manure</b> pile in the farmer's field down the road in the usa that is a <b style='color:green'>weapon</b> of mass destruction biological in nature because if it gets washed into an open well it will <b style='color:green'>contaminate</b> the aquifers that supply thousands of cities with drinking water so where do you draw the line in the usa the epa has ruled that a pile of scrap iron is illegal care to draw a thinner line this time dan <b style='color:green'>sorenson</b> dod <b style='color:green'>1066</b> z1dan exnet iastate edu viking iastate edu isu only <b style='color:green'>censors</b> what i read not what i say don't blame them usenet post to exotic distant machines meet exciting unusual people and flame them"
      ],
      "text/plain": [
       "<IPython.core.display.HTML object>"
      ]
     },
     "execution_count": 87,
     "metadata": {},
     "output_type": "execute_result"
    }
   ],
   "source": [
    "HTML(\"<b> Original Text </b>\")\n",
    "HTML(orig_html)"
   ]
  },
  {
   "cell_type": "code",
   "execution_count": 88,
   "metadata": {},
   "outputs": [
    {
     "data": {
      "text/html": [
       "<b style='color:red'>burney</b> vttoulu <b style='color:red'>childishly</b> <b style='color:red'>condos</b> fi foxvog douglas writes you believe that individuals should have the right to own <b style='color:red'>weds</b> of mass destruction i find it hard to believe that you would support a neighbor's right to keep nuclear <b style='color:red'>stalked</b> biological <b style='color:red'>cuyama</b> and nerve gas on his her property that really depends upon where you draw the line while defining these <b style='color:red'>callipers</b> and also on if you intend the law to be reflective of modern practice five months or five centuries down the road i'll give you a little hint see that <b style='color:red'>grf</b> pile in the farmer's field down the road in the usa that is a <b style='color:red'>idolizing</b> of mass destruction biological in nature because if it gets washed into an open well it will <b style='color:red'>hounslow</b> the aquifers that supply thousands of cities with drinking water so where do you draw the line in the usa the epa has ruled that a pile of scrap iron is illegal care to draw a thinner line this time dan <b style='color:red'>decimals</b> dod <b style='color:red'>mallet</b> z1dan exnet iastate edu viking iastate edu isu only <b style='color:red'>2243</b> what i read not what i say don't blame them usenet post to exotic distant machines meet exciting unusual people and flame them"
      ],
      "text/plain": [
       "<IPython.core.display.HTML object>"
      ]
     },
     "execution_count": 88,
     "metadata": {},
     "output_type": "execute_result"
    }
   ],
   "source": [
    "HTML(\"<b> Adversarial Text (change to another class, not necessarily the target class) </b>\")\n",
    "HTML(adv_1stchange_html)"
   ]
  },
  {
   "cell_type": "code",
   "execution_count": 69,
   "metadata": {},
   "outputs": [],
   "source": [
    "adv_text = data_utils.reconstruct_text(inverse_tokenizer, x_adv[0])\n",
    "orig_html, adv_html = data_utils.render_attack(orig_text, adv_text)"
   ]
  },
  {
   "cell_type": "code",
   "execution_count": 70,
   "metadata": {},
   "outputs": [
    {
     "data": {
      "text/html": [
       "hi i got hold of an old <b style='color:red'>effortlessly</b> <b style='color:red'>stiffed</b> <b style='color:red'>hyun</b> with model zwl 183 45 the <b style='color:red'>adjuster</b> <b style='color:red'>outperform</b> is dead but the rest seems to work i took the <b style='color:red'>marquees</b> apart and found a very strange <b style='color:red'>2000cc</b> for <b style='color:red'>chunking</b> i now try to replace the <b style='color:red'>peaky</b> is marked <b style='color:red'>housemate</b> model jd3824r00 1 has anyone any <b style='color:red'>tracs</b> on this <b style='color:red'>strut</b> or suggestion where i can find it or a cheap replacement for it thanks for your help michael michael thurbin michael pcmith <b style='color:red'>4004</b> se michael thurbin sommarvagen 1 phone 46 0 47021340 s <b style='color:red'>cornella</b> 37 vaxjoe fax 46 0 47048978 sweden"
      ],
      "text/plain": [
       "<IPython.core.display.HTML object>"
      ]
     },
     "execution_count": 70,
     "metadata": {},
     "output_type": "execute_result"
    }
   ],
   "source": [
    "HTML(\"<b> Adversarial Text (target class) </b>\")\n",
    "HTML(adv_html)"
   ]
  },
  {
   "cell_type": "code",
   "execution_count": null,
   "metadata": {},
   "outputs": [],
   "source": []
  },
  {
   "cell_type": "code",
   "execution_count": null,
   "metadata": {},
   "outputs": [],
   "source": []
  }
 ],
 "metadata": {
  "kernelspec": {
   "display_name": "Python 3",
   "language": "python",
   "name": "python3"
  },
  "language_info": {
   "codemirror_mode": {
    "name": "ipython",
    "version": 3
   },
   "file_extension": ".py",
   "mimetype": "text/x-python",
   "name": "python",
   "nbconvert_exporter": "python",
   "pygments_lexer": "ipython3",
   "version": "3.5.2"
  }
 },
 "nbformat": 4,
 "nbformat_minor": 2
}
