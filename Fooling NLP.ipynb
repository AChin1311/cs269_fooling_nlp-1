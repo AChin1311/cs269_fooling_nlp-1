{
 "cells": [
  {
   "cell_type": "code",
   "execution_count": 1,
   "metadata": {},
   "outputs": [],
   "source": [
    "%load_ext autoreload\n",
    "%autoreload 2\n",
    "\n",
    "import matplotlib.pyplot as plt\n",
    "%matplotlib inline\n",
    "\n",
    "from IPython.core.display import HTML"
   ]
  },
  {
   "cell_type": "code",
   "execution_count": 2,
   "metadata": {},
   "outputs": [
    {
     "name": "stderr",
     "output_type": "stream",
     "text": [
      "Using TensorFlow backend.\n"
     ]
    }
   ],
   "source": [
    "\n",
    "import numpy as np\n",
    "import os\n",
    "import data_utils\n",
    "from keras.models import load_model"
   ]
  },
  {
   "cell_type": "code",
   "execution_count": 3,
   "metadata": {
    "collapsed": true
   },
   "outputs": [],
   "source": [
    "TOKENIZER_PATH = 'tokenizer.pickle'\n",
    "TEXT_DATA_DIR = '20_newsgroup/'\n",
    "MODEL_PATH = '20news_model.h5'"
   ]
  },
  {
   "cell_type": "code",
   "execution_count": 4,
   "metadata": {
    "collapsed": true
   },
   "outputs": [],
   "source": [
    "tokenizer, inverse_tokenizer = data_utils.load_tokenizer(TOKENIZER_PATH)\n",
    "model = load_model(MODEL_PATH)\n",
    "labels =  list(sorted(os.listdir(TEXT_DATA_DIR)))"
   ]
  },
  {
   "cell_type": "code",
   "execution_count": 5,
   "metadata": {},
   "outputs": [],
   "source": [
    "sample_file, true_label = data_utils.pick_random_file(TEXT_DATA_DIR)\n",
    "file_text = data_utils.load_textfile(sample_file)\n",
    "file_features = data_utils.process_text(tokenizer, file_text)"
   ]
  },
  {
   "cell_type": "code",
   "execution_count": 6,
   "metadata": {},
   "outputs": [
    {
     "name": "stdout",
     "output_type": "stream",
     "text": [
      "TrueLabel = sci.med\n",
      "Predicted \"sci.med\" with 0.199538 .\n"
     ]
    }
   ],
   "source": [
    "pred_scores = model.predict(file_features)\n",
    "orig_prediction = np.argmax(pred_scores[0])\n",
    "print('TrueLabel = %s' %true_label)\n",
    "print('Predicted \"%s\" with %f .' %(labels[orig_prediction], pred_scores[0][orig_prediction]))"
   ]
  },
  {
   "cell_type": "markdown",
   "metadata": {},
   "source": [
    "## Random Attack (Non-targeted)"
   ]
  },
  {
   "cell_type": "markdown",
   "metadata": {},
   "source": [
    " Random attack will pick and replace words randomly."
   ]
  },
  {
   "cell_type": "code",
   "execution_count": 7,
   "metadata": {
    "collapsed": true
   },
   "outputs": [],
   "source": [
    "num_words = len(tokenizer.word_index)"
   ]
  },
  {
   "cell_type": "code",
   "execution_count": 9,
   "metadata": {},
   "outputs": [
    {
     "name": "stdout",
     "output_type": "stream",
     "text": [
      "Attack successful after : 39 iterations\n",
      "Number of changed words = 31 (46.970 %)\n",
      "Original class \"sci.med\" - New class: \"talk.religion.misc\"\n"
     ]
    }
   ],
   "source": [
    "y_orig = []\n",
    "x_adv = file_features.copy()\n",
    "orig_pred = orig_prediction\n",
    "iter_idx = 0\n",
    "while True:\n",
    "    iter_idx += 1\n",
    "    # perturb another random word\n",
    "    word_idx = np.random.choice(len(x_adv[0]))\n",
    "    while x_adv[0][word_idx] == 0:\n",
    "        # don't perturb paddings\n",
    "        word_idx = np.random.choice(len(x_adv[0]))\n",
    "    # select new word\n",
    "    x_adv[0][word_idx] = np.random.choice(num_words)\n",
    "    pred_scores = model.predict(x_adv)\n",
    "    new_pred = np.argmax(pred_scores)\n",
    "    y_orig.append(pred_scores[0][orig_pred])\n",
    "    if new_pred != orig_pred:\n",
    "        # Attack done !\n",
    "        break\n",
    "print(\"Attack successful after : %d iterations\" %(iter_idx))\n",
    "num_changed = np.count_nonzero(file_features!=x_adv)\n",
    "num_features = np.count_nonzero(file_features)\n",
    "print(\"Number of changed words = %d (%0.3f %%)\"\n",
    "      %(num_changed, 100.0*float(num_changed)/num_features))\n",
    "print(\"Original class \\\"%s\\\" - New class: \\\"%s\\\"\" %(labels[orig_pred], labels[new_pred]))"
   ]
  },
  {
   "cell_type": "markdown",
   "metadata": {},
   "source": [
    "## Reconstruct Text Document"
   ]
  },
  {
   "cell_type": "code",
   "execution_count": 10,
   "metadata": {},
   "outputs": [],
   "source": [
    "orig_text = data_utils.reconstruct_text(inverse_tokenizer, file_features[0])\n",
    "adv_text = data_utils.reconstruct_text(inverse_tokenizer, x_adv[0])"
   ]
  },
  {
   "cell_type": "markdown",
   "metadata": {},
   "source": [
    "## Visualize Attack"
   ]
  },
  {
   "cell_type": "code",
   "execution_count": 11,
   "metadata": {
    "collapsed": true
   },
   "outputs": [],
   "source": [
    "orig_html, adv_html = data_utils.render_attack(orig_text, adv_text)"
   ]
  },
  {
   "cell_type": "code",
   "execution_count": 12,
   "metadata": {},
   "outputs": [
    {
     "data": {
      "text/html": [
       "<b style='color:green'>in</b> <b style='color:green'>article</b> <b style='color:green'>jupiter</b> wa us jupiter <b style='color:green'>wa</b> us writes i read that can contribute <b style='color:green'>to</b> <b style='color:green'>migraines</b> could taking <b style='color:green'>supplemental</b> <b style='color:green'>cause</b> <b style='color:green'>migraines</b> any <b style='color:green'>information</b> i'm not sure <b style='color:green'>it</b> is <b style='color:green'>the</b> so much <b style='color:green'>as</b> the <b style='color:green'>level</b> <b style='color:green'>taking</b> can <b style='color:green'>certainly</b> cause <b style='color:green'>migraines</b> in <b style='color:green'>some</b> <b style='color:green'>women</b> gordon banks <b style='color:green'>n3jxp</b> <b style='color:green'>skepticism</b> is the chastity <b style='color:green'>of</b> the intellect <b style='color:green'>and</b> <b style='color:green'>geb</b> <b style='color:green'>cadre</b> dsl pitt edu it <b style='color:green'>is</b> <b style='color:green'>shameful</b> to <b style='color:green'>surrender</b> <b style='color:green'>it</b> <b style='color:green'>too</b> <b style='color:green'>soon</b>"
      ],
      "text/plain": [
       "<IPython.core.display.HTML object>"
      ]
     },
     "execution_count": 12,
     "metadata": {},
     "output_type": "execute_result"
    }
   ],
   "source": [
    "HTML(\"<b> Original Text </b>\")\n",
    "HTML(orig_html)"
   ]
  },
  {
   "cell_type": "code",
   "execution_count": 13,
   "metadata": {},
   "outputs": [
    {
     "data": {
      "text/html": [
       "<b style='color:red'>lesions</b> <b style='color:red'>leitz</b> <b style='color:red'>tco</b> wa us jupiter <b style='color:red'>chein</b> us writes i read that can contribute <b style='color:red'>pavo</b> <b style='color:red'>'24e1</b> could taking <b style='color:red'>'ve</b> <b style='color:red'>kahana</b> <b style='color:red'>parks</b> any <b style='color:red'>fountains</b> i'm not sure <b style='color:red'>dbms</b> is <b style='color:red'>c4t3k3</b> so much <b style='color:red'>ican</b> the <b style='color:red'>totem</b> <b style='color:red'>stafylopatis</b> can <b style='color:red'>vglk2xlb</b> cause <b style='color:red'>compresion</b> in <b style='color:red'>a0ybtd</b> <b style='color:red'>blaisec</b> gordon banks <b style='color:red'>sewell</b> <b style='color:red'>juicey</b> is the chastity <b style='color:red'>6ej</b> the intellect <b style='color:red'>bytewise</b> <b style='color:red'>mh9</b> <b style='color:red'>1z6ei0mf9l0q</b> dsl pitt edu it <b style='color:red'>stalinism</b> <b style='color:red'>j1bm</b> to <b style='color:red'>i3s3n8a</b> <b style='color:red'>arcade</b> <b style='color:red'>l6vo</b> <b style='color:red'>gh7</b>"
      ],
      "text/plain": [
       "<IPython.core.display.HTML object>"
      ]
     },
     "execution_count": 13,
     "metadata": {},
     "output_type": "execute_result"
    }
   ],
   "source": [
    "HTML(\"<b> Adversarial Text </b>\")\n",
    "HTML(adv_html)"
   ]
  },
  {
   "cell_type": "code",
   "execution_count": null,
   "metadata": {
    "collapsed": true
   },
   "outputs": [],
   "source": []
  }
 ],
 "metadata": {
  "kernelspec": {
   "display_name": "Python 3",
   "language": "python",
   "name": "python3"
  },
  "language_info": {
   "codemirror_mode": {
    "name": "ipython",
    "version": 3
   },
   "file_extension": ".py",
   "mimetype": "text/x-python",
   "name": "python",
   "nbconvert_exporter": "python",
   "pygments_lexer": "ipython3",
   "version": "3.6.1"
  }
 },
 "nbformat": 4,
 "nbformat_minor": 2
}
